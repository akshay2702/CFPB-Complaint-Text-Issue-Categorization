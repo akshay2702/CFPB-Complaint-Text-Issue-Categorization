{
  "nbformat": 4,
  "nbformat_minor": 0,
  "metadata": {
    "colab": {
      "name": "Credit_card_issue.ipynb",
      "provenance": [],
      "collapsed_sections": []
    },
    "kernelspec": {
      "display_name": "Python 3",
      "language": "python",
      "name": "python3"
    },
    "language_info": {
      "codemirror_mode": {
        "name": "ipython",
        "version": 3
      },
      "file_extension": ".py",
      "mimetype": "text/x-python",
      "name": "python",
      "nbconvert_exporter": "python",
      "pygments_lexer": "ipython3",
      "version": "3.7.3"
    }
  },
  "cells": [
    {
      "cell_type": "markdown",
      "metadata": {
        "id": "udihu8cFWAL9"
      },
      "source": [
        "# Humanizing Customer Complaints \n",
        "### A model that can correctly classify a customer complaint according to it’s product type, with an accuracy of 83%."
      ]
    },
    {
      "cell_type": "markdown",
      "metadata": {
        "id": "61qP_fbirVge"
      },
      "source": [
        "### **Problem Defination:** a supervised (labelled) text multi-class classification problem, of which our goal is to make a prediction (assign to correct category) with a new input (complaint)."
      ]
    },
    {
      "cell_type": "code",
      "metadata": {
        "id": "Pfwo7ORAmNIG",
        "outputId": "1a4d5b38-11d8-4808-cba8-e8eb16cbca84",
        "colab": {
          "resources": {
            "http://localhost:8080/nbextensions/google.colab/files.js": {
              "data": "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",
              "ok": true,
              "headers": [
                [
                  "content-type",
                  "application/javascript"
                ]
              ],
              "status": 200,
              "status_text": "OK"
            }
          },
          "base_uri": "https://localhost:8080/",
          "height": 100
        }
      },
      "source": [
        "! pip install -q kaggle\n",
        "from google.colab import files\n",
        "files.upload()"
      ],
      "execution_count": 1,
      "outputs": [
        {
          "output_type": "display_data",
          "data": {
            "text/html": [
              "\n",
              "     <input type=\"file\" id=\"files-73066402-e9a9-43c5-962c-86ff1c79da59\" name=\"files[]\" multiple disabled\n",
              "        style=\"border:none\" />\n",
              "     <output id=\"result-73066402-e9a9-43c5-962c-86ff1c79da59\">\n",
              "      Upload widget is only available when the cell has been executed in the\n",
              "      current browser session. Please rerun this cell to enable.\n",
              "      </output>\n",
              "      <script src=\"/nbextensions/google.colab/files.js\"></script> "
            ],
            "text/plain": [
              "<IPython.core.display.HTML object>"
            ]
          },
          "metadata": {
            "tags": []
          }
        },
        {
          "output_type": "stream",
          "text": [
            "Saving kaggle.json to kaggle.json\n"
          ],
          "name": "stdout"
        },
        {
          "output_type": "execute_result",
          "data": {
            "text/plain": [
              "{'kaggle.json': b'{\"username\":\"koushiktcs12\",\"key\":\"4004aba149297e662c11063e50b8ef45\"}'}"
            ]
          },
          "metadata": {
            "tags": []
          },
          "execution_count": 1
        }
      ]
    },
    {
      "cell_type": "code",
      "metadata": {
        "id": "VkX0BLZ6mVT-",
        "outputId": "d3e8b611-2504-4c24-8a2a-e2329b5831b9",
        "colab": {
          "base_uri": "https://localhost:8080/"
        }
      },
      "source": [
        "! mkdir ~/.kaggle\n",
        "! cp kaggle.json ~/.kaggle/\n",
        "! chmod 600 ~/.kaggle/kaggle.json\n",
        "! kaggle datasets list"
      ],
      "execution_count": 2,
      "outputs": [
        {
          "output_type": "stream",
          "text": [
            "Warning: Looks like you're using an outdated API Version, please consider updating (server 1.5.9 / client 1.5.4)\n",
            "ref                                                     title                                         size  lastUpdated          downloadCount  \n",
            "------------------------------------------------------  -------------------------------------------  -----  -------------------  -------------  \n",
            "unanimad/us-election-2020                               US Election 2020                             429KB  2020-11-13 12:45:46           3205  \n",
            "manchunhui/us-election-2020-tweets                      US Election 2020 Tweets                      353MB  2020-11-09 18:51:59           2013  \n",
            "antgoldbloom/covid19-data-from-john-hopkins-university  COVID-19 data from John Hopkins University     2MB  2020-11-13 06:04:14            885  \n",
            "headsortails/us-election-2020-presidential-debates      US Election 2020 - Presidential Debates      199MB  2020-10-23 16:56:10            381  \n",
            "etsc9287/2020-general-election-polls                    2020 General Election Polls                  109KB  2020-02-09 08:20:59            592  \n",
            "radustoicescu/2020-united-states-presidential-election  2020 United States presidential election      11MB  2019-07-04 15:00:45            718  \n",
            "shivamb/netflix-shows                                   Netflix Movies and TV Shows                  971KB  2020-01-20 07:33:56          58065  \n",
            "terenceshin/covid19s-impact-on-airport-traffic          COVID-19's Impact on Airport Traffic         106KB  2020-10-19 12:40:17           3750  \n",
            "sootersaalu/amazon-top-50-bestselling-books-2009-2019   Amazon Top 50 Bestselling Books 2009 - 2019   15KB  2020-10-13 09:39:21           3749  \n",
            "nehaprabhavalkar/indian-food-101                        Indian Food 101                                7KB  2020-09-30 06:23:43           7091  \n",
            "karangadiya/fifa19                                      FIFA 19 complete player dataset                2MB  2018-12-21 03:52:59         103684  \n",
            "omarhanyy/500-greatest-songs-of-all-time                500 Greatest Songs of All Time                33KB  2020-10-26 13:36:09           1244  \n",
            "heeraldedhia/groceries-dataset                          Groceries dataset                            257KB  2020-09-17 04:36:08           7489  \n",
            "andrewmvd/trip-advisor-hotel-reviews                    Trip Advisor Hotel Reviews                     5MB  2020-09-30 08:31:20           5000  \n",
            "docstein/brics-world-bank-indicators                    BRICS World Bank Indicators                    4MB  2020-10-22 12:18:40            982  \n",
            "google/tinyquickdraw                                    QuickDraw Sketches                            11GB  2018-04-18 19:38:04           2448  \n",
            "datasnaek/youtube-new                                   Trending YouTube Video Statistics            201MB  2019-06-03 00:56:47         114992  \n",
            "uciml/mushroom-classification                           Mushroom Classification                       34KB  2016-12-01 23:08:00          54249  \n",
            "anikannal/solar-power-generation-data                   Solar Power Generation Data                    2MB  2020-08-18 15:52:03           9619  \n",
            "zynicide/wine-reviews                                   Wine Reviews                                  51MB  2017-11-27 17:08:04         118773  \n"
          ],
          "name": "stdout"
        }
      ]
    },
    {
      "cell_type": "markdown",
      "metadata": {
        "id": "EpPv1zyJ83l9"
      },
      "source": [
        "### Download word embedding disctionary(Standford globe & google news.\n",
        "\n"
      ]
    },
    {
      "cell_type": "code",
      "metadata": {
        "id": "O39t88KzmX2q",
        "outputId": "bb045d28-6392-4a58-917b-3e3ca4b9f82c",
        "colab": {
          "base_uri": "https://localhost:8080/"
        }
      },
      "source": [
        "#tried but result is not beeter than tfidf\n",
        "!kaggle datasets download -d watts2/glove6b50dtxt\n",
        "# did't tried\n",
        "'''!kaggle datasets download -d danielwillgeorge/glove6b100dtxt\n",
        "!kaggle datasets download -d incorpes/glove6b200d\n",
        "!kaggle datasets download -d thanakomsn/glove6b300dtxt\n",
        "!kaggle datasets download -d leadbest/googlenewsvectorsnegative300'''\n",
        "!unzip \\*.zip  && rm *.zip\n",
        "!ls"
      ],
      "execution_count": null,
      "outputs": [
        {
          "output_type": "stream",
          "text": [
            "Downloading glove6b50dtxt.zip to /content\n",
            " 84% 57.0M/67.7M [00:00<00:00, 48.9MB/s]\n",
            "100% 67.7M/67.7M [00:00<00:00, 107MB/s] \n",
            "Downloading glove6b100dtxt.zip to /content\n",
            " 82% 108M/131M [00:01<00:00, 64.8MB/s] \n",
            "100% 131M/131M [00:01<00:00, 82.1MB/s]\n",
            "Downloading glove6b200d.zip to /content\n",
            " 97% 251M/259M [00:02<00:00, 82.0MB/s]\n",
            "100% 259M/259M [00:02<00:00, 107MB/s] \n",
            "Downloading glove6b300dtxt.zip to /content\n",
            " 96% 369M/386M [00:03<00:00, 110MB/s]\n",
            "100% 386M/386M [00:03<00:00, 120MB/s]\n",
            "Downloading googlenewsvectorsnegative300.zip to /content\n",
            "100% 3.17G/3.17G [00:40<00:00, 67.5MB/s]\n",
            "100% 3.17G/3.17G [00:40<00:00, 84.8MB/s]\n",
            "Archive:  glove6b50dtxt.zip\n",
            "  inflating: glove.6B.50d.txt        \n",
            "\n",
            "Archive:  glove6b200d.zip\n",
            "  inflating: glove.6B.200d.txt       \n",
            "\n",
            "Archive:  glove6b300dtxt.zip\n",
            "  inflating: glove.6B.300d.txt       \n",
            "\n",
            "Archive:  glove6b100dtxt.zip\n",
            "  inflating: glove.6B.100d.txt       \n",
            "\n",
            "Archive:  googlenewsvectorsnegative300.zip\n",
            "  inflating: GoogleNews-vectors-negative300.bin  \n",
            "  inflating: GoogleNews-vectors-negative300.bin.gz  \n",
            "\n",
            "5 archives were successfully processed.\n",
            "glove.6B.100d.txt  glove.6B.50d.txt\t\t\t  kaggle.json\n",
            "glove.6B.200d.txt  GoogleNews-vectors-negative300.bin\t  sample_data\n",
            "glove.6B.300d.txt  GoogleNews-vectors-negative300.bin.gz\n"
          ],
          "name": "stdout"
        }
      ]
    },
    {
      "cell_type": "code",
      "metadata": {
        "id": "_10FzJ0RWL7D",
        "outputId": "1e5e0585-8ea9-4943-8356-111b31cb3439",
        "colab": {
          "base_uri": "https://localhost:8080/"
        }
      },
      "source": [
        "!pip install spacy-langdetect\n",
        "!pip install language-detector\n",
        "import nltk\n",
        "nltk.download('averaged_perceptron_tagger')\n",
        "nltk.download('wordnet')\n",
        "nltk.download('stopwords')\n",
        "nltk.download('words')\n",
        "nltk.download('punkt')"
      ],
      "execution_count": 3,
      "outputs": [
        {
          "output_type": "stream",
          "text": [
            "Collecting spacy-langdetect\n",
            "  Downloading https://files.pythonhosted.org/packages/29/70/72dad19abe81ca8e85ff951da170915211d42d705a001d7e353af349a704/spacy_langdetect-0.1.2-py3-none-any.whl\n",
            "Collecting langdetect==1.0.7\n",
            "\u001b[?25l  Downloading https://files.pythonhosted.org/packages/59/59/4bc44158a767a6d66de18c4136c8aa90491d56cc951c10b74dd1e13213c9/langdetect-1.0.7.zip (998kB)\n",
            "\u001b[K     |████████████████████████████████| 1.0MB 5.7MB/s \n",
            "\u001b[?25hRequirement already satisfied: pytest in /usr/local/lib/python3.6/dist-packages (from spacy-langdetect) (3.6.4)\n",
            "Requirement already satisfied: six in /usr/local/lib/python3.6/dist-packages (from langdetect==1.0.7->spacy-langdetect) (1.15.0)\n",
            "Requirement already satisfied: setuptools in /usr/local/lib/python3.6/dist-packages (from pytest->spacy-langdetect) (50.3.2)\n",
            "Requirement already satisfied: atomicwrites>=1.0 in /usr/local/lib/python3.6/dist-packages (from pytest->spacy-langdetect) (1.4.0)\n",
            "Requirement already satisfied: pluggy<0.8,>=0.5 in /usr/local/lib/python3.6/dist-packages (from pytest->spacy-langdetect) (0.7.1)\n",
            "Requirement already satisfied: attrs>=17.4.0 in /usr/local/lib/python3.6/dist-packages (from pytest->spacy-langdetect) (20.2.0)\n",
            "Requirement already satisfied: py>=1.5.0 in /usr/local/lib/python3.6/dist-packages (from pytest->spacy-langdetect) (1.9.0)\n",
            "Requirement already satisfied: more-itertools>=4.0.0 in /usr/local/lib/python3.6/dist-packages (from pytest->spacy-langdetect) (8.6.0)\n",
            "Building wheels for collected packages: langdetect\n",
            "  Building wheel for langdetect (setup.py) ... \u001b[?25l\u001b[?25hdone\n",
            "  Created wheel for langdetect: filename=langdetect-1.0.7-cp36-none-any.whl size=993461 sha256=9c235679ecb271726086ca0c24485b9e494ba1495b9693316ca841b6cc45fa66\n",
            "  Stored in directory: /root/.cache/pip/wheels/ec/0c/a9/1647275e7ef5014e7b83ff30105180e332867d65e7617ddafe\n",
            "Successfully built langdetect\n",
            "Installing collected packages: langdetect, spacy-langdetect\n",
            "Successfully installed langdetect-1.0.7 spacy-langdetect-0.1.2\n",
            "Collecting language-detector\n",
            "  Downloading https://files.pythonhosted.org/packages/5c/0a/fefb61145a386968d2070323b608be6a1eb7508e610c2319daad746c2c33/language-detector-5.0.2.tar.gz\n",
            "Building wheels for collected packages: language-detector\n",
            "  Building wheel for language-detector (setup.py) ... \u001b[?25l\u001b[?25hdone\n",
            "  Created wheel for language-detector: filename=language_detector-5.0.2-cp36-none-any.whl size=7055 sha256=824be8bad4edeb8bc636f2dbed547f49d601e63b2da4d606eca2317a9a071714\n",
            "  Stored in directory: /root/.cache/pip/wheels/7d/37/fa/2098a4aa6c0d94d6ddff0d3a79669e12bc4f7baca8a760b3db\n",
            "Successfully built language-detector\n",
            "Installing collected packages: language-detector\n",
            "Successfully installed language-detector-5.0.2\n",
            "[nltk_data] Downloading package averaged_perceptron_tagger to\n",
            "[nltk_data]     /root/nltk_data...\n",
            "[nltk_data]   Unzipping taggers/averaged_perceptron_tagger.zip.\n",
            "[nltk_data] Downloading package wordnet to /root/nltk_data...\n",
            "[nltk_data]   Unzipping corpora/wordnet.zip.\n",
            "[nltk_data] Downloading package stopwords to /root/nltk_data...\n",
            "[nltk_data]   Unzipping corpora/stopwords.zip.\n",
            "[nltk_data] Downloading package words to /root/nltk_data...\n",
            "[nltk_data]   Unzipping corpora/words.zip.\n",
            "[nltk_data] Downloading package punkt to /root/nltk_data...\n",
            "[nltk_data]   Unzipping tokenizers/punkt.zip.\n"
          ],
          "name": "stdout"
        },
        {
          "output_type": "execute_result",
          "data": {
            "text/plain": [
              "True"
            ]
          },
          "metadata": {
            "tags": []
          },
          "execution_count": 3
        }
      ]
    },
    {
      "cell_type": "markdown",
      "metadata": {
        "id": "FN8DVPf0WAMC"
      },
      "source": [
        "# Section 1: Importing Packages and Loading Data"
      ]
    },
    {
      "cell_type": "code",
      "metadata": {
        "id": "ygeQUvBPWAMH",
        "outputId": "c2d7dcc2-9776-4beb-bc1f-c5da490401c0",
        "colab": {
          "base_uri": "https://localhost:8080/"
        }
      },
      "source": [
        "import numpy as np\n",
        "import pandas as pd\n",
        "\n",
        "# Graph plotting\n",
        "import matplotlib.pyplot as plt\n",
        "import seaborn as sns\n",
        "\n",
        "# Displaying dataframes\n",
        "from IPython.display import display\n",
        "\n",
        "# Natural Language Processing Thingamajibs\n",
        "import re\n",
        "import string\n",
        "import nltk\n",
        "nltk.download('stopwords')\n",
        "from nltk.corpus import stopwords\n",
        "from sklearn.feature_extraction.text import TfidfVectorizer\n",
        "\n",
        "# Classifiers\n",
        "from sklearn.naive_bayes import GaussianNB, BernoulliNB, MultinomialNB\n",
        "from sklearn.linear_model import LogisticRegression\n",
        "from sklearn.ensemble import RandomForestClassifier\n",
        "from sklearn.svm import LinearSVC, SVC\n",
        "from sklearn.calibration import CalibratedClassifierCV\n",
        "from sklearn.feature_selection import chi2\n",
        "\n",
        "# Metrics to score classifiers\n",
        "from sklearn.metrics import confusion_matrix, classification_report\n",
        "from sklearn.metrics import accuracy_score, precision_score, recall_score, f1_score, auc, roc_curve, log_loss\n",
        "\n",
        "# Data splitting, CV\n",
        "from sklearn.model_selection import train_test_split\n",
        "from sklearn.model_selection import cross_val_score, KFold, StratifiedKFold\n",
        "\n",
        "# Lifesaver\n",
        "import pickle\n",
        "from google.colab import files"
      ],
      "execution_count": 62,
      "outputs": [
        {
          "output_type": "stream",
          "text": [
            "[nltk_data] Downloading package stopwords to /root/nltk_data...\n",
            "[nltk_data]   Package stopwords is already up-to-date!\n"
          ],
          "name": "stdout"
        }
      ]
    },
    {
      "cell_type": "markdown",
      "metadata": {
        "id": "LVtCkz7CrsKc"
      },
      "source": [
        "### **Data Source** Kaggle https://www.kaggle.com/cfpb/us-consumer-finance-complaints\n",
        "### Original data source: https://files.consumerfinance.gov/ccdb/complaints.csv.zip"
      ]
    },
    {
      "cell_type": "code",
      "metadata": {
        "id": "rLMIKsbPXDps",
        "outputId": "c3e3c1d4-796e-4ce1-c6bd-2306470a55c9",
        "colab": {
          "base_uri": "https://localhost:8080/"
        }
      },
      "source": [
        "!kaggle datasets download -d cfpb/us-consumer-finance-complaints\n",
        "!unzip \\*.zip  && rm *.zip\n",
        "!ls"
      ],
      "execution_count": 5,
      "outputs": [
        {
          "output_type": "stream",
          "text": [
            "Downloading us-consumer-finance-complaints.zip to /content\n",
            " 86% 73.0M/84.5M [00:00<00:00, 95.4MB/s]\n",
            "100% 84.5M/84.5M [00:00<00:00, 116MB/s] \n",
            "Archive:  us-consumer-finance-complaints.zip\n",
            "  inflating: consumer_complaints.csv  \n",
            "  inflating: database.sqlite         \n",
            "consumer_complaints.csv  database.sqlite  kaggle.json  sample_data\n"
          ],
          "name": "stdout"
        }
      ]
    },
    {
      "cell_type": "code",
      "metadata": {
        "id": "FD57zikeWAMk",
        "outputId": "38ad278e-f28b-4bc0-e2d4-9592f479a401",
        "colab": {
          "base_uri": "https://localhost:8080/"
        }
      },
      "source": [
        "# # Load CSV file\n",
        "df= pd.read_csv(r'consumer_complaints.csv')\n",
        "df.info()"
      ],
      "execution_count": 6,
      "outputs": [
        {
          "output_type": "stream",
          "text": [
            "/usr/local/lib/python3.6/dist-packages/IPython/core/interactiveshell.py:2718: DtypeWarning: Columns (5,11) have mixed types.Specify dtype option on import or set low_memory=False.\n",
            "  interactivity=interactivity, compiler=compiler, result=result)\n"
          ],
          "name": "stderr"
        },
        {
          "output_type": "stream",
          "text": [
            "<class 'pandas.core.frame.DataFrame'>\n",
            "RangeIndex: 555957 entries, 0 to 555956\n",
            "Data columns (total 18 columns):\n",
            " #   Column                        Non-Null Count   Dtype \n",
            "---  ------                        --------------   ----- \n",
            " 0   date_received                 555957 non-null  object\n",
            " 1   product                       555957 non-null  object\n",
            " 2   sub_product                   397635 non-null  object\n",
            " 3   issue                         555957 non-null  object\n",
            " 4   sub_issue                     212622 non-null  object\n",
            " 5   consumer_complaint_narrative  66806 non-null   object\n",
            " 6   company_public_response       85124 non-null   object\n",
            " 7   company                       555957 non-null  object\n",
            " 8   state                         551070 non-null  object\n",
            " 9   zipcode                       551452 non-null  object\n",
            " 10  tags                          77959 non-null   object\n",
            " 11  consumer_consent_provided     123458 non-null  object\n",
            " 12  submitted_via                 555957 non-null  object\n",
            " 13  date_sent_to_company          555957 non-null  object\n",
            " 14  company_response_to_consumer  555957 non-null  object\n",
            " 15  timely_response               555957 non-null  object\n",
            " 16  consumer_disputed?            555957 non-null  object\n",
            " 17  complaint_id                  555957 non-null  int64 \n",
            "dtypes: int64(1), object(17)\n",
            "memory usage: 76.3+ MB\n"
          ],
          "name": "stdout"
        }
      ]
    },
    {
      "cell_type": "code",
      "metadata": {
        "id": "Tu5FjpvPxUN0"
      },
      "source": [
        "# Column Cleaning First. Columns are super nastily named\n",
        "df.rename(columns={'date_received':'DATE_RECEIVED',\n",
        "                  'product':'PRODUCT',\n",
        "                  'sub_product':'SUB_PRODUCT',\n",
        "                  'issue':'ISSUE',\n",
        "                  'sub_issue':'SUB_ISSUE',\n",
        "                  'consumer_complaint_narrative':'CONSUMER_COMPLAINT_NARRATIVE',\n",
        "                  'company_public_response':'COMPANY_PUBLIC_RESPONSE',\n",
        "                   'company':'COMPANY',\n",
        "                   'state':'STATE',\n",
        "                   'zipcode':'ZIP_CODE',\n",
        "                   'tags':'TAGS',\n",
        "                   'consumer_consent_provided':'CONSUMER_CONSENT_PROVIDED',\n",
        "                   'submitted_via':'SUBMITTED_VIA',\n",
        "                   'date_sent_to_company':'DATE_SENT_TO_COMPANY',\n",
        "                   'company_response_to_consumer':'COMPANY_RESPONSE_TO_CONSUMER',\n",
        "                   'timely_response':'TIMELY_RESPONSE',\n",
        "                   'consumer_disputed?':'CONSUMER_DISPUTED',\n",
        "                   'complaint_id':'COMPLAINT_ID'\n",
        "                  }, inplace=True)"
      ],
      "execution_count": 7,
      "outputs": []
    },
    {
      "cell_type": "code",
      "metadata": {
        "id": "m7tV-0TPJfQd",
        "outputId": "8d29e56e-200e-4c71-9da1-b1666762514a",
        "colab": {
          "base_uri": "https://localhost:8080/"
        }
      },
      "source": [
        "df.info()"
      ],
      "execution_count": 8,
      "outputs": [
        {
          "output_type": "stream",
          "text": [
            "<class 'pandas.core.frame.DataFrame'>\n",
            "RangeIndex: 555957 entries, 0 to 555956\n",
            "Data columns (total 18 columns):\n",
            " #   Column                        Non-Null Count   Dtype \n",
            "---  ------                        --------------   ----- \n",
            " 0   DATE_RECEIVED                 555957 non-null  object\n",
            " 1   PRODUCT                       555957 non-null  object\n",
            " 2   SUB_PRODUCT                   397635 non-null  object\n",
            " 3   ISSUE                         555957 non-null  object\n",
            " 4   SUB_ISSUE                     212622 non-null  object\n",
            " 5   CONSUMER_COMPLAINT_NARRATIVE  66806 non-null   object\n",
            " 6   COMPANY_PUBLIC_RESPONSE       85124 non-null   object\n",
            " 7   COMPANY                       555957 non-null  object\n",
            " 8   STATE                         551070 non-null  object\n",
            " 9   ZIP_CODE                      551452 non-null  object\n",
            " 10  TAGS                          77959 non-null   object\n",
            " 11  CONSUMER_CONSENT_PROVIDED     123458 non-null  object\n",
            " 12  SUBMITTED_VIA                 555957 non-null  object\n",
            " 13  DATE_SENT_TO_COMPANY          555957 non-null  object\n",
            " 14  COMPANY_RESPONSE_TO_CONSUMER  555957 non-null  object\n",
            " 15  TIMELY_RESPONSE               555957 non-null  object\n",
            " 16  CONSUMER_DISPUTED             555957 non-null  object\n",
            " 17  COMPLAINT_ID                  555957 non-null  int64 \n",
            "dtypes: int64(1), object(17)\n",
            "memory usage: 76.3+ MB\n"
          ],
          "name": "stdout"
        }
      ]
    },
    {
      "cell_type": "code",
      "metadata": {
        "id": "5t6BhoWdJxgB",
        "outputId": "ebbf19dc-c86b-42ee-ab1d-907438211c22",
        "colab": {
          "base_uri": "https://localhost:8080/"
        }
      },
      "source": [
        "df = df[df[\"CONSUMER_COMPLAINT_NARRATIVE\"].notnull() == True]\n",
        "df = df.drop_duplicates()\n",
        "print(df.shape)"
      ],
      "execution_count": 9,
      "outputs": [
        {
          "output_type": "stream",
          "text": [
            "(66806, 18)\n"
          ],
          "name": "stdout"
        }
      ]
    },
    {
      "cell_type": "code",
      "metadata": {
        "id": "VzhLaidm_fXV",
        "outputId": "0f608b76-f9e9-4215-8531-6cf394d7fae6",
        "colab": {
          "base_uri": "https://localhost:8080/"
        }
      },
      "source": [
        "df['PRODUCT'].value_counts()"
      ],
      "execution_count": 10,
      "outputs": [
        {
          "output_type": "execute_result",
          "data": {
            "text/plain": [
              "Debt collection            17552\n",
              "Mortgage                   14919\n",
              "Credit reporting           12526\n",
              "Credit card                 7929\n",
              "Bank account or service     5711\n",
              "Consumer Loan               3678\n",
              "Student loan                2128\n",
              "Prepaid card                 861\n",
              "Payday loan                  726\n",
              "Money transfers              666\n",
              "Other financial service      110\n",
              "Name: PRODUCT, dtype: int64"
            ]
          },
          "metadata": {
            "tags": []
          },
          "execution_count": 10
        }
      ]
    },
    {
      "cell_type": "code",
      "metadata": {
        "id": "6tC7OoFAGN3W"
      },
      "source": [
        "## Combining Loans together to make this a simplier classification problem\n",
        "df.replace('Student loan', 'Loan', inplace=True)\n",
        "df.replace('Consumer Loan', 'Loan', inplace=True)\n",
        "df.replace('Payday loan', 'Loan', inplace=True)\n",
        "df.replace('Vehicle loan or lease', 'Loan', inplace=True)\n",
        "df.replace('Payday loan, title loan, or personal loan', 'Loan', inplace=True)\n",
        "df.replace('Money transfer, virtual currency, or money service', 'Money transfers', inplace=True)\n",
        "\n",
        "# Placing Virtual currency into other financial service\n",
        "df.replace('Virtual currency', 'Other financial service', inplace=True)"
      ],
      "execution_count": 12,
      "outputs": []
    },
    {
      "cell_type": "code",
      "metadata": {
        "id": "Ln4kUoRDAG5_",
        "outputId": "8712ece7-487a-4b9f-bf51-ed28391d495a",
        "colab": {
          "base_uri": "https://localhost:8080/"
        }
      },
      "source": [
        "df['PRODUCT'].value_counts()"
      ],
      "execution_count": 13,
      "outputs": [
        {
          "output_type": "execute_result",
          "data": {
            "text/plain": [
              "Debt collection            17552\n",
              "Mortgage                   14919\n",
              "Credit reporting           12526\n",
              "Credit card                 7929\n",
              "Loan                        6532\n",
              "Bank account or service     5711\n",
              "Prepaid card                 861\n",
              "Money transfers              666\n",
              "Other financial service      110\n",
              "Name: PRODUCT, dtype: int64"
            ]
          },
          "metadata": {
            "tags": []
          },
          "execution_count": 13
        }
      ]
    },
    {
      "cell_type": "markdown",
      "metadata": {
        "id": "LpciN_tC04Cx"
      },
      "source": [
        "## PRODUCT column, we observe 10 classes with the following distribution:"
      ]
    },
    {
      "cell_type": "code",
      "metadata": {
        "id": "onFaNPvBw6fS",
        "outputId": "35fbb3e3-9946-439c-d7e3-b8c28e9bf5e9",
        "colab": {
          "base_uri": "https://localhost:8080/",
          "height": 519
        }
      },
      "source": [
        "fig, ax = plt.subplots(figsize=(10,8))\n",
        "\n",
        "ax = sns.countplot(y='PRODUCT', \n",
        "                   data=df, \n",
        "                   order=df['PRODUCT'].value_counts().index)\n",
        "\n",
        "ax.set_title('NUMBER OF COMPLAINTS IN EACH CATEGORY',size=15)\n",
        "\n",
        "# Setting labels\n",
        "# Dealing with y-labels\n",
        "ax.set_ylabel('COMPLAINT', rotation=0, size=14, labelpad=10)\n",
        "              \n",
        "# Dealing with x-labels\n",
        "ax.set_xlabel('NUMBER OF COMPLAINTS', size=14)\n",
        "\n",
        "sns.despine()\n",
        "            \n",
        "plt.savefig('freq_of_uncombined_class.png', transparency=True)"
      ],
      "execution_count": 14,
      "outputs": [
        {
          "output_type": "display_data",
          "data": {
            "image/png": "[encoded data removed]",
            "text/plain": [
              "<Figure size 720x576 with 1 Axes>"
            ]
          },
          "metadata": {
            "tags": [],
            "needs_background": "light"
          }
        }
      ]
    },
    {
      "cell_type": "markdown",
      "metadata": {
        "id": "gGvNzSBq1AS5"
      },
      "source": [
        "## Some of the classes (products), however, overlap. For instance, Credit card or prepaid card clash with Credit card and Prepaid card. "
      ]
    },
    {
      "cell_type": "markdown",
      "metadata": {
        "id": "G2RCCf2YbkBj"
      },
      "source": [
        "Product wise\n",
        "Credit card            17552\n",
        "Credit reporting                   14919\n",
        "Credit card           12526\n",
        "Credit card                 7929\n",
        "Money transfers     5711\n",
        "Consumer Loan               3678\n",
        "Student loan                2128\n",
        "Prepaid card                 861\n",
        "Payday loan                  726\n",
        "Money transfers              666\n",
        "Other financial service      110"
      ]
    },
    {
      "cell_type": "code",
      "metadata": {
        "id": "ULhDP1GrbjUL"
      },
      "source": [
        "product_nm = 'Credit card'"
      ],
      "execution_count": 15,
      "outputs": []
    },
    {
      "cell_type": "code",
      "metadata": {
        "id": "Edr7knOnxo6G",
        "outputId": "858ce5c0-44ef-4518-9583-7255c841cae6",
        "colab": {
          "base_uri": "https://localhost:8080/"
        }
      },
      "source": [
        "df=df[(df['PRODUCT']==product_nm)]\n",
        "print(df[['PRODUCT','ISSUE']].value_counts())"
      ],
      "execution_count": 16,
      "outputs": [
        {
          "output_type": "stream",
          "text": [
            "PRODUCT      ISSUE                                   \n",
            "Credit card  Billing disputes                            1222\n",
            "             Other                                        828\n",
            "             Identity theft / Fraud / Embezzlement        718\n",
            "             Closing/Cancelling account                   618\n",
            "             Customer service / Customer relations        416\n",
            "             Delinquent account                           404\n",
            "             Advertising and marketing                    385\n",
            "             APR or interest rate                         381\n",
            "             Late fee                                     357\n",
            "             Billing statement                            301\n",
            "             Rewards                                      286\n",
            "             Credit card protection / Debt protection     263\n",
            "             Transaction issue                            250\n",
            "             Credit determination                         247\n",
            "             Other fee                                    220\n",
            "             Payoff process                               218\n",
            "             Credit line increase/decrease                207\n",
            "             Unsolicited issuance of credit card          178\n",
            "             Balance transfer                             114\n",
            "             Privacy                                       54\n",
            "             Bankruptcy                                    50\n",
            "             Sale of account                               40\n",
            "             Application processing delay                  33\n",
            "             Forbearance / Workout plans                   29\n",
            "             Arbitration                                   29\n",
            "             Balance transfer fee                          21\n",
            "             Cash advance fee                              19\n",
            "             Overlimit fee                                 15\n",
            "             Convenience checks                            13\n",
            "             Cash advance                                  13\n",
            "dtype: int64\n"
          ],
          "name": "stdout"
        }
      ]
    },
    {
      "cell_type": "markdown",
      "metadata": {
        "id": "FWU-U2OHBMjx"
      },
      "source": [
        "### Can merge *fees and lees than 1% merge into other"
      ]
    },
    {
      "cell_type": "code",
      "metadata": {
        "id": "GnTAytOEAo7f",
        "outputId": "47639aed-9bf5-4646-935a-62d238c3d55c",
        "colab": {
          "base_uri": "https://localhost:8080/"
        }
      },
      "source": [
        "print(df[['PRODUCT','ISSUE']].value_counts(normalize = True)*100)"
      ],
      "execution_count": 18,
      "outputs": [
        {
          "output_type": "stream",
          "text": [
            "PRODUCT      ISSUE                                   \n",
            "Credit card  Billing disputes                            15.411780\n",
            "             Other                                       10.442679\n",
            "             Identity theft / Fraud / Embezzlement        9.055366\n",
            "             Closing/Cancelling account                   7.794173\n",
            "             Customer service / Customer relations        5.246563\n",
            "             Delinquent account                           5.095220\n",
            "             Advertising and marketing                    4.855593\n",
            "             APR or interest rate                         4.805146\n",
            "             Late fee                                     4.502459\n",
            "             Billing statement                            3.796191\n",
            "             Rewards                                      3.607012\n",
            "             Credit card protection / Debt protection     3.316938\n",
            "             Transaction issue                            3.152983\n",
            "             Credit determination                         3.115147\n",
            "             Other fee                                    2.774625\n",
            "             Payoff process                               2.749401\n",
            "             Credit line increase/decrease                2.610670\n",
            "             Unsolicited issuance of credit card          2.244924\n",
            "             Balance transfer                             1.437760\n",
            "             Privacy                                      0.681044\n",
            "             Bankruptcy                                   0.630597\n",
            "             Sale of account                              0.504477\n",
            "             Application processing delay                 0.416194\n",
            "             Forbearance / Workout plans                  0.365746\n",
            "             Arbitration                                  0.365746\n",
            "             Balance transfer fee                         0.264851\n",
            "             Cash advance fee                             0.239627\n",
            "             Overlimit fee                                0.189179\n",
            "             Convenience checks                           0.163955\n",
            "             Cash advance                                 0.163955\n",
            "dtype: float64\n"
          ],
          "name": "stdout"
        }
      ]
    },
    {
      "cell_type": "markdown",
      "metadata": {
        "id": "DZXS2KY2WAM1"
      },
      "source": [
        "## Section 1.1: Data Cleaning"
      ]
    },
    {
      "cell_type": "markdown",
      "metadata": {
        "id": "DDjzwZJeWANV"
      },
      "source": [
        "### Section 1.1.1: Dropping all rows that do not have Customer Complaint entries in them"
      ]
    },
    {
      "cell_type": "markdown",
      "metadata": {
        "id": "Ma-X9bzLWANm"
      },
      "source": [
        "### Section 1.1.2: Subsetting Dataframe for Text Multi-Classification Problem"
      ]
    },
    {
      "cell_type": "code",
      "metadata": {
        "id": "8-zlHsAzWANp"
      },
      "source": [
        "# Subsetting dataframe into columns useful for our text multi-classification problem\n",
        "df_cc = df[['ISSUE', 'CONSUMER_COMPLAINT_NARRATIVE']].copy()\n",
        "\n",
        "# Renaming columns to something easier\n",
        "df_cc.rename(columns={'CONSUMER_COMPLAINT_NARRATIVE':'CONSUMER_COMPLAINT'},inplace=True)"
      ],
      "execution_count": 21,
      "outputs": []
    },
    {
      "cell_type": "code",
      "metadata": {
        "id": "oGUlp0SdWAN2"
      },
      "source": [
        "# Pickling our subsetted dataframe\n",
        "with open('df_cc_data.pickle', 'wb') as to_write:\n",
        "     pickle.dump(df_cc, to_write)"
      ],
      "execution_count": 22,
      "outputs": []
    },
    {
      "cell_type": "code",
      "metadata": {
        "id": "V36ZnT_pWAOB"
      },
      "source": [
        "# Loading our pickled subsetted dataframe\n",
        "with open('df_cc_data.pickle', 'rb') as to_read:\n",
        "    df_cc = pickle.load(to_read)"
      ],
      "execution_count": 24,
      "outputs": []
    },
    {
      "cell_type": "markdown",
      "metadata": {
        "id": "_sZQK_7GWAON"
      },
      "source": [
        "# Section 2: Understanding/Cleaning Our Data"
      ]
    },
    {
      "cell_type": "code",
      "metadata": {
        "id": "MdW8tTCJWAOO",
        "outputId": "21185182-e22d-4376-ec57-68c663ccfa50",
        "colab": {
          "base_uri": "https://localhost:8080/"
        }
      },
      "source": [
        "# Checking our dataframe\n",
        "df_cc.info()\n",
        "# Great! We have no null values in each column"
      ],
      "execution_count": 25,
      "outputs": [
        {
          "output_type": "stream",
          "text": [
            "<class 'pandas.core.frame.DataFrame'>\n",
            "Int64Index: 7929 entries, 190263 to 553006\n",
            "Data columns (total 2 columns):\n",
            " #   Column              Non-Null Count  Dtype \n",
            "---  ------              --------------  ----- \n",
            " 0   ISSUE               7929 non-null   object\n",
            " 1   CONSUMER_COMPLAINT  7929 non-null   object\n",
            "dtypes: object(2)\n",
            "memory usage: 185.8+ KB\n"
          ],
          "name": "stdout"
        }
      ]
    },
    {
      "cell_type": "markdown",
      "metadata": {
        "id": "Xpkbr6pBWAOn"
      },
      "source": [
        "## Section 2.1: Exploring Consumer Complaints"
      ]
    },
    {
      "cell_type": "markdown",
      "metadata": {
        "id": "X1PestmJWAPH"
      },
      "source": [
        "## Section 2.2: Exploring Product"
      ]
    },
    {
      "cell_type": "markdown",
      "metadata": {
        "id": "OwpqbGCTWAPd"
      },
      "source": [
        "### Section 2.2.1: Data Visualization on Categories in PRODUCT"
      ]
    },
    {
      "cell_type": "code",
      "metadata": {
        "id": "d6XqFgPKWAPf",
        "scrolled": false,
        "outputId": "ddb0524c-09c7-4504-8450-517e330e54bb",
        "colab": {
          "base_uri": "https://localhost:8080/",
          "height": 519
        }
      },
      "source": [
        "fig, ax = plt.subplots(figsize=(10,8))\n",
        "\n",
        "ax = sns.countplot(y='ISSUE', \n",
        "                   data=df_cc, \n",
        "                   order=df_cc['ISSUE'].value_counts().index)\n",
        "\n",
        "ax.set_title('NUMBER OF COMPLAINTS IN EACH CATEGORY',size=15)\n",
        "\n",
        "# Setting labels\n",
        "# Dealing with y-labels\n",
        "ax.set_ylabel('COMPLAINT', rotation=0, size=14, labelpad=10)\n",
        "              \n",
        "# Dealing with x-labels\n",
        "ax.set_xlabel('NUMBER OF COMPLAINTS', size=14)\n",
        "\n",
        "sns.despine()\n",
        "            \n",
        "plt.savefig('freq_of_uncombined_class.png', transparency=True)"
      ],
      "execution_count": 26,
      "outputs": [
        {
          "output_type": "display_data",
          "data": {
            "image/png": "[encoded data removed]",
            "text/plain": [
              "<Figure size 720x576 with 1 Axes>"
            ]
          },
          "metadata": {
            "tags": [],
            "needs_background": "light"
          }
        }
      ]
    },
    {
      "cell_type": "markdown",
      "metadata": {
        "id": "ysP3cPdAWAPw"
      },
      "source": [
        "This is seriously way too huge. Let's just scope our problem down into more bite-sized chunks our computer can actually handle."
      ]
    },
    {
      "cell_type": "markdown",
      "metadata": {
        "id": "DgDuUoGhWAP5"
      },
      "source": [
        "### We observe some aggregated columns here.\n",
        "Let's drop those columns first. Since we want a more accurate/specific label for our predictions. The columns are:\n",
        "* Credit card, credit repair services, or other personal consumer reports\n",
        "* Credit card or prepaid card\n",
        "* Money transfer, virtual currency, or money service\n",
        "* Payday loan, title loan, or personal loan"
      ]
    },
    {
      "cell_type": "markdown",
      "metadata": {
        "id": "V7HMN7gHWAP5"
      },
      "source": [
        "### Section 2.2.2: DataFrame Reduction (else we won't even be able to do processing)"
      ]
    },
    {
      "cell_type": "markdown",
      "metadata": {
        "id": "Dl0b75voWAQM"
      },
      "source": [
        "#### Visualizing Leftover Categories (after dropping the ones stated above)"
      ]
    },
    {
      "cell_type": "code",
      "metadata": {
        "id": "Pw2ElkurWAQO",
        "outputId": "486fe3a2-2a2c-4f21-8baa-19bacf0225be",
        "colab": {
          "base_uri": "https://localhost:8080/",
          "height": 489
        }
      },
      "source": [
        "fig, ax = plt.subplots(figsize=(10,8))\n",
        "\n",
        "ax = sns.countplot(y='ISSUE', \n",
        "                   data=df_cc, \n",
        "                   order=df_cc['ISSUE'].value_counts().index)\n",
        "\n",
        "ax.set_title('NUMBER OF COMPLAINTS IN EACH CATEGORY',size=15)\n",
        "\n",
        "# Setting labels\n",
        "# Dealing with y-labels\n",
        "ax.set_ylabel('COMPLAINT', rotation=0, labelpad=40, size=14)\n",
        "              \n",
        "# Dealing with x-labels\n",
        "ax.set_xlabel('NUMBER OF COMPLAINTS', size=14)"
      ],
      "execution_count": null,
      "outputs": [
        {
          "output_type": "execute_result",
          "data": {
            "text/plain": [
              "Text(0.5, 0, 'NUMBER OF COMPLAINTS')"
            ]
          },
          "metadata": {
            "tags": []
          },
          "execution_count": 79
        },
        {
          "output_type": "display_data",
          "data": {
            "image/png": "[encoded data removed]",
            "text/plain": [
              "<Figure size 720x576 with 1 Axes>"
            ]
          },
          "metadata": {
            "tags": [],
            "needs_background": "light"
          }
        }
      ]
    },
    {
      "cell_type": "markdown",
      "metadata": {
        "id": "3g5ygCmLWAQx"
      },
      "source": [
        "#### Section 2.2.2.3: Leftover Categories Dataframe Reduction"
      ]
    },
    {
      "cell_type": "markdown",
      "metadata": {
        "id": "FqrExypKWARf"
      },
      "source": [
        "### Section 2.2.3: Data Visualizing on newly combined classes"
      ]
    },
    {
      "cell_type": "code",
      "metadata": {
        "id": "itD6bYHuWARi",
        "outputId": "15bb5020-6520-42a0-d2ea-6aa1b3f4b3e9",
        "colab": {
          "base_uri": "https://localhost:8080/",
          "height": 519
        }
      },
      "source": [
        "fig, ax = plt.subplots(figsize=(10,8))\n",
        "\n",
        "ax = sns.countplot(y='ISSUE', \n",
        "                   data=df_cc, \n",
        "                   order=df_cc['ISSUE'].value_counts().index,\n",
        "                   palette='rocket'        # change the color of this graph LATER\n",
        "                  )\n",
        "ax.set_title('NUMBER OF COMPLAINTS IN EACH CATEGORY',size=15)\n",
        "\n",
        "# Setting labels\n",
        "# Dealing with y-labels\n",
        "ax.set_ylabel('COMPLAINT', rotation=0, labelpad=40, size=14)\n",
        "              \n",
        "# Dealing with x-labels\n",
        "ax.set_xlabel('NUMBER OF COMPLAINTS', size=14)\n",
        "\n",
        "sns.despine()\n",
        "plt.savefig('freq_of_removed_classes_and_reduced_observations.png', transparency=True)"
      ],
      "execution_count": 28,
      "outputs": [
        {
          "output_type": "display_data",
          "data": {
            "image/png": "[encoded data removed]",
            "text/plain": [
              "<Figure size 720x576 with 1 Axes>"
            ]
          },
          "metadata": {
            "tags": [],
            "needs_background": "light"
          }
        }
      ]
    },
    {
      "cell_type": "markdown",
      "metadata": {
        "id": "okoGWXzLWARp"
      },
      "source": [
        "We can see from the graph that there lies a major class imbalance (again)  \n",
        "We have to deal with this when we are going to use our model for prediction  \n",
        "Now we are doing multilabel prediction. HOORAY!"
      ]
    },
    {
      "cell_type": "markdown",
      "metadata": {
        "id": "v9l9jMMmWARp"
      },
      "source": [
        "### Section 2.2.4: Label Encoding Categories"
      ]
    },
    {
      "cell_type": "code",
      "metadata": {
        "id": "8l-PsGnkWARs",
        "outputId": "1e85bf3a-cc42-4518-c0dd-db8cbf1be7a8",
        "colab": {
          "base_uri": "https://localhost:8080/",
          "height": 363
        }
      },
      "source": [
        "# Applying encoding to the ISSUE column\n",
        "df_cc['ISSUE_ID'] = df_cc['ISSUE'].factorize()[0] \n",
        "\n",
        "#.factorize[0] arranges the index of each encoded number accordingly to the \n",
        "# index of your categorical variables in the ISSUE column\n",
        "\n",
        "\n",
        "# Creates a dataframe of the ISSUE to their respective ISSUE_ID\n",
        "category_id_df = df_cc[['ISSUE', 'ISSUE_ID']].drop_duplicates()\n",
        "\n",
        "\n",
        "# Dictionaries for future use. Creating our cheatsheets for what each encoded label represents.\n",
        "category_to_id = dict(category_id_df.values) # Creates a ISSUE: ISSUE_ID key-value pair\n",
        "id_to_category = dict(category_id_df[['ISSUE_ID', 'ISSUE']].values)  # Creates a ISSUE_ID: ISSUE key-value pair\n",
        "\n",
        "# New dataframe\n",
        "df_cc.head(10)"
      ],
      "execution_count": 27,
      "outputs": [
        {
          "output_type": "execute_result",
          "data": {
            "text/html": [
              "<div>\n",
              "<style scoped>\n",
              "    .dataframe tbody tr th:only-of-type {\n",
              "        vertical-align: middle;\n",
              "    }\n",
              "\n",
              "    .dataframe tbody tr th {\n",
              "        vertical-align: top;\n",
              "    }\n",
              "\n",
              "    .dataframe thead th {\n",
              "        text-align: right;\n",
              "    }\n",
              "</style>\n",
              "<table border=\"1\" class=\"dataframe\">\n",
              "  <thead>\n",
              "    <tr style=\"text-align: right;\">\n",
              "      <th></th>\n",
              "      <th>ISSUE</th>\n",
              "      <th>CONSUMER_COMPLAINT</th>\n",
              "      <th>ISSUE_ID</th>\n",
              "    </tr>\n",
              "  </thead>\n",
              "  <tbody>\n",
              "    <tr>\n",
              "      <th>190263</th>\n",
              "      <td>Other</td>\n",
              "      <td>i opened XXXX Bank of America credit cards 15-...</td>\n",
              "      <td>0</td>\n",
              "    </tr>\n",
              "    <tr>\n",
              "      <th>190587</th>\n",
              "      <td>Other</td>\n",
              "      <td>Mel S. Harris &amp; assoc. used deceptive collecti...</td>\n",
              "      <td>0</td>\n",
              "    </tr>\n",
              "    <tr>\n",
              "      <th>192008</th>\n",
              "      <td>Identity theft / Fraud / Embezzlement</td>\n",
              "      <td>In late XX/XX/XXXX or early XX/XX/XXXX I recei...</td>\n",
              "      <td>1</td>\n",
              "    </tr>\n",
              "    <tr>\n",
              "      <th>192115</th>\n",
              "      <td>Late fee</td>\n",
              "      <td>I have credit cards with CitiCard and XXXX XXX...</td>\n",
              "      <td>2</td>\n",
              "    </tr>\n",
              "    <tr>\n",
              "      <th>192150</th>\n",
              "      <td>Advertising and marketing</td>\n",
              "      <td>I accepted a credit card off for the Barclays ...</td>\n",
              "      <td>3</td>\n",
              "    </tr>\n",
              "    <tr>\n",
              "      <th>192471</th>\n",
              "      <td>Closing/Cancelling account</td>\n",
              "      <td>My Complaint is in regards to my credit card w...</td>\n",
              "      <td>4</td>\n",
              "    </tr>\n",
              "    <tr>\n",
              "      <th>192485</th>\n",
              "      <td>Other</td>\n",
              "      <td>I applied for a credit card and was accepted f...</td>\n",
              "      <td>0</td>\n",
              "    </tr>\n",
              "    <tr>\n",
              "      <th>192496</th>\n",
              "      <td>Identity theft / Fraud / Embezzlement</td>\n",
              "      <td>I would like to be credited in full, of all th...</td>\n",
              "      <td>1</td>\n",
              "    </tr>\n",
              "    <tr>\n",
              "      <th>192624</th>\n",
              "      <td>Credit determination</td>\n",
              "      <td>i recently closed and paid off my citizens ban...</td>\n",
              "      <td>5</td>\n",
              "    </tr>\n",
              "    <tr>\n",
              "      <th>195501</th>\n",
              "      <td>Customer service / Customer relations</td>\n",
              "      <td>I have XXXX credit cards with Capital One. I h...</td>\n",
              "      <td>6</td>\n",
              "    </tr>\n",
              "  </tbody>\n",
              "</table>\n",
              "</div>"
            ],
            "text/plain": [
              "                                        ISSUE  ... ISSUE_ID\n",
              "190263                                  Other  ...        0\n",
              "190587                                  Other  ...        0\n",
              "192008  Identity theft / Fraud / Embezzlement  ...        1\n",
              "192115                               Late fee  ...        2\n",
              "192150              Advertising and marketing  ...        3\n",
              "192471             Closing/Cancelling account  ...        4\n",
              "192485                                  Other  ...        0\n",
              "192496  Identity theft / Fraud / Embezzlement  ...        1\n",
              "192624                   Credit determination  ...        5\n",
              "195501  Customer service / Customer relations  ...        6\n",
              "\n",
              "[10 rows x 3 columns]"
            ]
          },
          "metadata": {
            "tags": []
          },
          "execution_count": 27
        }
      ]
    },
    {
      "cell_type": "code",
      "metadata": {
        "id": "DHfiDe8VWAR3",
        "outputId": "8014ea34-5816-49b1-ae54-a4c578f72c0c",
        "colab": {
          "base_uri": "https://localhost:8080/"
        }
      },
      "source": [
        "# We still get the same length as per the original df.\n",
        "len(df_cc)"
      ],
      "execution_count": 29,
      "outputs": [
        {
          "output_type": "execute_result",
          "data": {
            "text/plain": [
              "7929"
            ]
          },
          "metadata": {
            "tags": []
          },
          "execution_count": 29
        }
      ]
    },
    {
      "cell_type": "markdown",
      "metadata": {
        "id": "a9uup5d8WAR_"
      },
      "source": [
        "Now that we have encoded our columns, time to move on to the next step -- cleaning the fricken text data  \n",
        "But let's save our dataframe here so we don't run into memory issues later and we can start from a new starting point fruther down the notebook"
      ]
    },
    {
      "cell_type": "markdown",
      "metadata": {
        "id": "pkAXX4d2WASR"
      },
      "source": [
        "### Section 2.2.5: Text Pre-Processing"
      ]
    },
    {
      "cell_type": "code",
      "metadata": {
        "id": "X0gxjNTKWASS",
        "outputId": "e0f2ea00-23ff-42be-aeec-2dde7c5a3290",
        "colab": {
          "base_uri": "https://localhost:8080/"
        }
      },
      "source": [
        "# Looking at a sample text\n",
        "sample_complaint = list(df_cc.CONSUMER_COMPLAINT[:5])[4]\n",
        "\n",
        "# Converting to a list for TfidfVectorizer to use\n",
        "list_sample_complaint = []\n",
        "list_sample_complaint.append(sample_complaint)\n",
        "list_sample_complaint"
      ],
      "execution_count": 30,
      "outputs": [
        {
          "output_type": "execute_result",
          "data": {
            "text/plain": [
              "[\"I accepted a credit card off for the Barclays XXXX XXXX. The initial disclosure provided to me indicated a promotional rate of 0.00 APR on purchases ( 6 months ) and balance transfers ( for 15 months ). Upon receiving my card the disclosure provided did not reference the promotional rate on the balance transfers, therefore I called the company to discuss and was told the promotional was only on purchases. Therefore, I submitted a complaint through the bank 's website on XXXX/XXXX/15. After several back and forth responses and a letter received, it was still being indicated the promotional rate is only on purchases. As already expressed this is not what was initially disclosed to me and therefore this is deceptive to me as a consumer as I made a credit decision based on the initially information provided to me that appear to be false. I have provided the link below that provided the terms and conditions of the card that included the promotional rate of balance transfers. My other concern is what other deceptive practices might the bank be conducting. \\n\\nhttps : //www.barclaycardus.com/apply/Landing.action? XXXX & XXXX : //www.barclaycardus.com/app/japply/lp/TnCs.jsp? XXXX \\n\"]"
            ]
          },
          "metadata": {
            "tags": []
          },
          "execution_count": 30
        }
      ]
    },
    {
      "cell_type": "code",
      "metadata": {
        "id": "ctcjVa8SWASY",
        "outputId": "9c8748aa-313c-4cd4-d876-4a122cddf0c6",
        "colab": {
          "base_uri": "https://localhost:8080/"
        }
      },
      "source": [
        "# Observing what words are extracted from a TfidfVectorizer\n",
        "from sklearn.feature_extraction.text import TfidfVectorizer\n",
        "\n",
        "tf_idf3 = TfidfVectorizer(stop_words='english')\n",
        "check3 = tf_idf3.fit_transform(list_sample_complaint)\n",
        "\n",
        "print(tf_idf3.get_feature_names())"
      ],
      "execution_count": 31,
      "outputs": [
        {
          "output_type": "stream",
          "text": [
            "['00', '15', 'accepted', 'action', 'app', 'appear', 'apply', 'apr', 'balance', 'bank', 'barclaycardus', 'barclays', 'based', 'called', 'card', 'com', 'company', 'complaint', 'concern', 'conditions', 'conducting', 'consumer', 'credit', 'deceptive', 'decision', 'did', 'disclosed', 'disclosure', 'discuss', 'expressed', 'false', 'forth', 'https', 'included', 'indicated', 'information', 'initial', 'initially', 'japply', 'jsp', 'landing', 'letter', 'link', 'lp', 'months', 'practices', 'promotional', 'provided', 'purchases', 'rate', 'received', 'receiving', 'reference', 'responses', 'submitted', 'terms', 'tncs', 'told', 'transfers', 'website', 'www', 'xxxx']\n"
          ],
          "name": "stdout"
        }
      ]
    },
    {
      "cell_type": "markdown",
      "metadata": {
        "id": "D8guO3OHWASf"
      },
      "source": [
        "Ok so basically, we can trust the stop_word removal from tfidf.   \n",
        "Through the tests, we see that it removes punctuations and also all the stopwords.   \n",
        "(I deleted these because they were seriously taking up a lot of space on my jupyter notebook)  \n",
        "Spellchecker might also mess up some words, especially with bank names like Citi for example  \n",
        "Thus changing the semantic meaning of the word.  \n",
        "  \n",
        "Therefore, we are going to just use tfidf just as it is.  \n",
        "It's pretty amazing, really.  \n",
        "  \n",
        "Great! We can start building some shit!  "
      ]
    },
    {
      "cell_type": "markdown",
      "metadata": {
        "id": "1kd590z7WASh"
      },
      "source": [
        "# Section 3: Model/Classifier Selection\n",
        "#### Each model is cross-validated on a stratified 5-fold split train-validation (of 80% of the whole dataset). The remaining 20% data was held out and untouched to simulate how our final chosen model would perform in real-life scenarios"
      ]
    },
    {
      "cell_type": "markdown",
      "metadata": {
        "id": "Akm29_KaWASi"
      },
      "source": [
        "## Section 3.1: Train/StratifiedCV/Test split"
      ]
    },
    {
      "cell_type": "markdown",
      "metadata": {
        "id": "zW38XTiuWASj"
      },
      "source": [
        "In this section, we also prepare the model for text pre-processing. This is handled by our handydandy Tfidfvecotirzer with the stop_words and such. As we have tested above, it also ignores punctuation so it really is quite a catch-all package that cleans our text really well for the purposes of doing text classification"
      ]
    },
    {
      "cell_type": "code",
      "metadata": {
        "id": "Um2nKbLvWASk",
        "outputId": "3e351832-9e85-4f0d-c75b-19a6d8b1dd38",
        "colab": {
          "base_uri": "https://localhost:8080/"
        }
      },
      "source": [
        "# Split the data into X and y data sets\n",
        "X, y = df_cc.CONSUMER_COMPLAINT, df_cc.ISSUE_ID\n",
        "print('X shape:', X.shape, 'y shape:', y.shape)"
      ],
      "execution_count": 32,
      "outputs": [
        {
          "output_type": "stream",
          "text": [
            "X shape: (7929,) y shape: (7929,)\n"
          ],
          "name": "stdout"
        }
      ]
    },
    {
      "cell_type": "code",
      "metadata": {
        "id": "f6hBJHSwWASp",
        "outputId": "3060b4ab-351a-4d20-bcf6-1cc465fe172d",
        "colab": {
          "base_uri": "https://localhost:8080/"
        }
      },
      "source": [
        "# Split the data into X and y data sets\n",
        "X, y = df_cc.CONSUMER_COMPLAINT, df_cc.ISSUE_ID\n",
        "print('X shape:', X.shape, 'y shape:', y.shape)\n",
        "\n",
        "# For text classification, ALWAYS split data first before vectorizing.\n",
        "# This is because you don't want to cheat by having features (words) from the test data already being inside your train data\n",
        "from sklearn.model_selection import train_test_split\n",
        "\n",
        "X_train_val, X_test, y_train_val, y_test = train_test_split(X, y, \n",
        "                                                            test_size=0.2,   # 80% train/cv, 20% test\n",
        "                                                            stratify=y,\n",
        "                                                            random_state=300)\n",
        "print('X_train', X_train_val.shape)\n",
        "print('y_train', y_train_val.shape)\n",
        "print('X_test', X_test.shape)\n",
        "print('y_test', y_test.shape)"
      ],
      "execution_count": 34,
      "outputs": [
        {
          "output_type": "stream",
          "text": [
            "X shape: (7929,) y shape: (7929,)\n",
            "X_train (6343,)\n",
            "y_train (6343,)\n",
            "X_test (1586,)\n",
            "y_test (1586,)\n"
          ],
          "name": "stdout"
        }
      ]
    },
    {
      "cell_type": "markdown",
      "metadata": {
        "id": "CPjqjI9b1UPF"
      },
      "source": [
        "## Section 2.2: Vectorization\n",
        "#### To turn words into something a machine learning algorithm can understand and process, we need to do something called vectorization.\n",
        "##### Put simply, this is the process of turning words into multi-dimensional vectors in such a way that the meaning or context of the word is correlated with where that vector points. In a sense, vectorization allows computers to quantify the meaning of words by mapping similar word meanings to similar vector spaces."
      ]
    },
    {
      "cell_type": "code",
      "metadata": {
        "id": "gOJlSmlgWAS7"
      },
      "source": [
        "# Performing Text Pre-Processing\n",
        "\n",
        "# Import tfidfVectorizer\n",
        "from sklearn.feature_extraction.text import TfidfVectorizer\n",
        "\n",
        "# Text Preprocessing\n",
        "# The text needs to be transformed to vectors so as the algorithms will be able make predictions. \n",
        "# In this case it will be used the Term Frequency – Inverse Document Frequency (TFIDF) weight \n",
        "# to evaluate how important A WORD is to A DOCUMENT in a COLLECTION OF DOCUMENTS.\n",
        "\n",
        "# tfidf1 = 1-gram only. \n",
        "tfidf1 = TfidfVectorizer(sublinear_tf=True, # set to true to scale the term frequency in logarithmic scale.\n",
        "                        min_df=5,\n",
        "                        stop_words='english')\n",
        "\n",
        "X_train_val_tfidf1 = tfidf1.fit_transform(X_train_val).toarray()\n",
        "X_test_tfidf1 = tfidf1.transform(X_test)\n",
        "\n",
        "# tfidf2 = unigram and bigram\n",
        "tfidf2 = TfidfVectorizer(sublinear_tf=True, # set to true to scale the term frequency in logarithmic scale.\n",
        "                        min_df=5, \n",
        "                        ngram_range=(1,2), # we consider unigrams and bigrams\n",
        "                        stop_words='english')\n",
        "X_train_val_tfidf2 = tfidf2.fit_transform(X_train_val).toarray()\n",
        "X_test_tfidf2 = tfidf2.transform(X_test)\n",
        "\n",
        "\n",
        "# # StratifiedKFold -> Split 5\n",
        "# ## We now want to do stratified kfold to preserve the proportion of the category imbalances \n",
        "# # (number is split evenly from all the classes)"
      ],
      "execution_count": 36,
      "outputs": []
    },
    {
      "cell_type": "markdown",
      "metadata": {
        "id": "DRA0gBIX1kzl"
      },
      "source": [
        "## Term Frequency — Inverse Document Frequency Vectorization\n",
        "#### For this application, we want context-based vectorization. This is where Term frequency inverse document frequency vectorization comes in (TF-IDF). This vectorization method looks at the number of times a word appears in a comment relative to the number of times it appears in other comments. Two things result in a higher TF-IDF score:\n",
        "\n",
        "   1. Higher frequency of the word within the specific complaint being scored.\n",
        "   2. Lower frequency of the word across all other complaints."
      ]
    },
    {
      "cell_type": "markdown",
      "metadata": {
        "id": "KfWY7uvIWATF"
      },
      "source": [
        "## Section 3.2: Baseline Model - Train/Stratified CV with MultinomialNB()"
      ]
    },
    {
      "cell_type": "code",
      "metadata": {
        "id": "cAGt4GmEWATH",
        "outputId": "4c977fd4-31ae-4c5c-a0b9-c4fdc6780a22",
        "colab": {
          "base_uri": "https://localhost:8080/"
        }
      },
      "source": [
        "print('1-gram number of (rows, features):', X_train_val_tfidf1.shape)"
      ],
      "execution_count": 37,
      "outputs": [
        {
          "output_type": "stream",
          "text": [
            "1-gram number of (rows, features): (6343, 5034)\n"
          ],
          "name": "stdout"
        }
      ]
    },
    {
      "cell_type": "markdown",
      "metadata": {
        "id": "TjnQFVzs8UvL"
      },
      "source": [
        "### Evaluation Metrics (Accuracy, Recall_macro, Precission_macro, f1_macro, Recall_weighted, Precission_weighted, f1_weighted)\n",
        "Referrence:\n",
        "https://towardsdatascience.com/multi-class-metrics-made-simple-part-i-precision-and-recall-9250280bddc2\n",
        "\n",
        "https://towardsdatascience.com/multi-class-metrics-made-simple-part-ii-the-f1-score-ebe8b2c2ca1\n"
      ]
    },
    {
      "cell_type": "code",
      "metadata": {
        "id": "gop5ZHYnWATS"
      },
      "source": [
        "def metric_cv_stratified(model, X_train_val, y_train_val, n_splits, name):\n",
        "    \"\"\"\n",
        "    Accepts a Model Object, converted X_train_val and y_train_val, n_splits, name\n",
        "    and returns a dataframe with various cross-validated metric scores \n",
        "    over a stratified n_splits kfold for a multi-class classifier.\n",
        "    \"\"\"\n",
        "    # Start timer\n",
        "    import timeit\n",
        "    start = timeit.default_timer()\n",
        "    \n",
        "    ### Computations below\n",
        "    \n",
        "    # StratifiedKFold\n",
        "    ## We now want to do stratified kfold to preserve the proportion of the category imbalances \n",
        "    # (number is split evenly from all the classes)\n",
        "    from sklearn.model_selection import StratifiedKFold  # incase user forgest to import\n",
        "    kf = StratifiedKFold(n_splits=n_splits, shuffle=True, random_state=seed)\n",
        "    \n",
        "    # Initializing Metrics\n",
        "    accuracy = 0.0\n",
        "    micro_f1 = 0.0\n",
        "    macro_precision = 0.0\n",
        "    macro_recall = 0.0\n",
        "    macro_f1 = 0.0\n",
        "    weighted_precision = 0.0\n",
        "    weighted_recall = 0.0\n",
        "    weighted_f1 = 0.0\n",
        "#     roc_auc = 0.0    Not considering this score in this case\n",
        "        \n",
        "    # Storing metrics\n",
        "    from sklearn.model_selection import cross_val_score  # incase user forgets to import\n",
        "    accuracy = np.mean(cross_val_score(model, X_train_val, y_train_val, cv=kf, scoring='accuracy'))\n",
        "#     micro_f1 = np.mean(cross_val_score(model, X_train_val, y_train_val, cv=kf, scoring='f1_micro'))\n",
        "    macro_precision = np.mean(cross_val_score(model, X_train_val, y_train_val, cv=kf, scoring='precision_macro'))\n",
        "    macro_recall = np.mean(cross_val_score(model, X_train_val, y_train_val, cv=kf, scoring='recall_macro'))\n",
        "    macro_f1 = np.mean(cross_val_score(model, X_train_val, y_train_val, cv=kf, scoring='f1_macro'))\n",
        "    weighted_precision = np.mean(cross_val_score(model, X_train_val, y_train_val, cv=kf, scoring='precision_weighted'))\n",
        "    weighted_recall = np.mean(cross_val_score(model, X_train_val, y_train_val, cv=kf, scoring='recall_weighted'))\n",
        "    weighted_f1 = np.mean(cross_val_score(model, X_train_val, y_train_val, cv=kf, scoring='f1_weighted'))\n",
        "    \n",
        "    # Stop timer\n",
        "    stop = timeit.default_timer()\n",
        "    elapsed_time = stop - start\n",
        "    \n",
        "    return pd.DataFrame({'Model'    : [name],\n",
        "                         'Accuracy' : [accuracy],\n",
        "#                          'Micro F1' : [micro_f1],\n",
        "                         'Macro Precision': [macro_precision],\n",
        "                         'Macro Recall'   : [macro_recall],\n",
        "                         'Macro F1score'  : [macro_f1],\n",
        "                         'Weighted Precision': [weighted_precision],\n",
        "                         'Weighted Recall'   : [weighted_recall],\n",
        "                         'Weighted F1'  : [weighted_f1],\n",
        "                         'Time taken': [elapsed_time]  # timetaken: to be used for comparison later\n",
        "                        })"
      ],
      "execution_count": 38,
      "outputs": []
    },
    {
      "cell_type": "markdown",
      "metadata": {
        "id": "cNr3Tm2vWATv"
      },
      "source": [
        "## Section 3.3: Further Train/Straitified CV with other Models"
      ]
    },
    {
      "cell_type": "markdown",
      "metadata": {
        "id": "6vtVo-OLWATx"
      },
      "source": [
        "### Section 3.3.1: 1-gram"
      ]
    },
    {
      "cell_type": "code",
      "metadata": {
        "id": "TuTyOQWnEqnF"
      },
      "source": [
        "seed =300"
      ],
      "execution_count": 44,
      "outputs": []
    },
    {
      "cell_type": "code",
      "metadata": {
        "id": "XSMvSkOGWATy",
        "outputId": "3fe66ece-5434-477b-f7f0-08e78aac8eae",
        "colab": {
          "base_uri": "https://localhost:8080/"
        }
      },
      "source": [
        "## Testing on all Models using 1-gram \n",
        "\n",
        "# Initialize Model Object\n",
        "gnb = GaussianNB()\n",
        "mnb = MultinomialNB()\n",
        "logit = LogisticRegression(random_state=300)\n",
        "randomforest = RandomForestClassifier(n_estimators=100, max_depth=5, random_state=0)\n",
        "linearsvc = LinearSVC()\n",
        "\n",
        "## We do NOT want these two. They take FOREVER to train AND predict\n",
        "# knn = KNeighborsClassifier()  \n",
        "# decisiontree = DecisionTreeClassifier(random_state=seed)\n",
        "\n",
        "# to concat all models\n",
        "results_cv_straitified_1gram = pd.concat([metric_cv_stratified(mnb, X_train_val_tfidf1, y_train_val, 5, 'MultinomialNB1'),\n",
        "                                           metric_cv_stratified(gnb, X_train_val_tfidf1, y_train_val, 5, 'GaussianNB1'),\n",
        "                                           metric_cv_stratified(logit, X_train_val_tfidf1, y_train_val, 5, 'LogisticRegression1'),\n",
        "                                           metric_cv_stratified(randomforest, X_train_val_tfidf1, y_train_val, 5, 'RandomForest1'),\n",
        "                                           metric_cv_stratified(linearsvc, X_train_val_tfidf1, y_train_val, 5, 'LinearSVC1')\n",
        "                                          ], axis=0).reset_index()"
      ],
      "execution_count": 45,
      "outputs": [
        {
          "output_type": "stream",
          "text": [
            "/usr/local/lib/python3.6/dist-packages/sklearn/metrics/_classification.py:1272: UndefinedMetricWarning: Precision is ill-defined and being set to 0.0 in labels with no predicted samples. Use `zero_division` parameter to control this behavior.\n",
            "  _warn_prf(average, modifier, msg_start, len(result))\n",
            "/usr/local/lib/python3.6/dist-packages/sklearn/metrics/_classification.py:1272: UndefinedMetricWarning: Precision is ill-defined and being set to 0.0 in labels with no predicted samples. Use `zero_division` parameter to control this behavior.\n",
            "  _warn_prf(average, modifier, msg_start, len(result))\n",
            "/usr/local/lib/python3.6/dist-packages/sklearn/metrics/_classification.py:1272: UndefinedMetricWarning: Precision is ill-defined and being set to 0.0 in labels with no predicted samples. Use `zero_division` parameter to control this behavior.\n",
            "  _warn_prf(average, modifier, msg_start, len(result))\n",
            "/usr/local/lib/python3.6/dist-packages/sklearn/metrics/_classification.py:1272: UndefinedMetricWarning: Precision is ill-defined and being set to 0.0 in labels with no predicted samples. Use `zero_division` parameter to control this behavior.\n",
            "  _warn_prf(average, modifier, msg_start, len(result))\n",
            "/usr/local/lib/python3.6/dist-packages/sklearn/metrics/_classification.py:1272: UndefinedMetricWarning: Precision is ill-defined and being set to 0.0 in labels with no predicted samples. Use `zero_division` parameter to control this behavior.\n",
            "  _warn_prf(average, modifier, msg_start, len(result))\n",
            "/usr/local/lib/python3.6/dist-packages/sklearn/metrics/_classification.py:1272: UndefinedMetricWarning: Precision is ill-defined and being set to 0.0 in labels with no predicted samples. Use `zero_division` parameter to control this behavior.\n",
            "  _warn_prf(average, modifier, msg_start, len(result))\n",
            "/usr/local/lib/python3.6/dist-packages/sklearn/metrics/_classification.py:1272: UndefinedMetricWarning: Precision is ill-defined and being set to 0.0 in labels with no predicted samples. Use `zero_division` parameter to control this behavior.\n",
            "  _warn_prf(average, modifier, msg_start, len(result))\n",
            "/usr/local/lib/python3.6/dist-packages/sklearn/metrics/_classification.py:1272: UndefinedMetricWarning: Precision is ill-defined and being set to 0.0 in labels with no predicted samples. Use `zero_division` parameter to control this behavior.\n",
            "  _warn_prf(average, modifier, msg_start, len(result))\n",
            "/usr/local/lib/python3.6/dist-packages/sklearn/metrics/_classification.py:1272: UndefinedMetricWarning: Precision is ill-defined and being set to 0.0 in labels with no predicted samples. Use `zero_division` parameter to control this behavior.\n",
            "  _warn_prf(average, modifier, msg_start, len(result))\n",
            "/usr/local/lib/python3.6/dist-packages/sklearn/metrics/_classification.py:1272: UndefinedMetricWarning: Precision is ill-defined and being set to 0.0 in labels with no predicted samples. Use `zero_division` parameter to control this behavior.\n",
            "  _warn_prf(average, modifier, msg_start, len(result))\n",
            "/usr/local/lib/python3.6/dist-packages/sklearn/metrics/_classification.py:1272: UndefinedMetricWarning: Precision is ill-defined and being set to 0.0 in labels with no predicted samples. Use `zero_division` parameter to control this behavior.\n",
            "  _warn_prf(average, modifier, msg_start, len(result))\n",
            "/usr/local/lib/python3.6/dist-packages/sklearn/metrics/_classification.py:1272: UndefinedMetricWarning: Precision is ill-defined and being set to 0.0 in labels with no predicted samples. Use `zero_division` parameter to control this behavior.\n",
            "  _warn_prf(average, modifier, msg_start, len(result))\n",
            "/usr/local/lib/python3.6/dist-packages/sklearn/metrics/_classification.py:1272: UndefinedMetricWarning: Precision is ill-defined and being set to 0.0 in labels with no predicted samples. Use `zero_division` parameter to control this behavior.\n",
            "  _warn_prf(average, modifier, msg_start, len(result))\n",
            "/usr/local/lib/python3.6/dist-packages/sklearn/metrics/_classification.py:1272: UndefinedMetricWarning: Precision is ill-defined and being set to 0.0 in labels with no predicted samples. Use `zero_division` parameter to control this behavior.\n",
            "  _warn_prf(average, modifier, msg_start, len(result))\n",
            "/usr/local/lib/python3.6/dist-packages/sklearn/metrics/_classification.py:1272: UndefinedMetricWarning: Precision is ill-defined and being set to 0.0 in labels with no predicted samples. Use `zero_division` parameter to control this behavior.\n",
            "  _warn_prf(average, modifier, msg_start, len(result))\n",
            "/usr/local/lib/python3.6/dist-packages/sklearn/metrics/_classification.py:1272: UndefinedMetricWarning: Precision is ill-defined and being set to 0.0 in labels with no predicted samples. Use `zero_division` parameter to control this behavior.\n",
            "  _warn_prf(average, modifier, msg_start, len(result))\n",
            "/usr/local/lib/python3.6/dist-packages/sklearn/metrics/_classification.py:1272: UndefinedMetricWarning: Precision is ill-defined and being set to 0.0 in labels with no predicted samples. Use `zero_division` parameter to control this behavior.\n",
            "  _warn_prf(average, modifier, msg_start, len(result))\n",
            "/usr/local/lib/python3.6/dist-packages/sklearn/metrics/_classification.py:1272: UndefinedMetricWarning: Precision is ill-defined and being set to 0.0 in labels with no predicted samples. Use `zero_division` parameter to control this behavior.\n",
            "  _warn_prf(average, modifier, msg_start, len(result))\n",
            "/usr/local/lib/python3.6/dist-packages/sklearn/linear_model/_logistic.py:940: ConvergenceWarning: lbfgs failed to converge (status=1):\n",
            "STOP: TOTAL NO. of ITERATIONS REACHED LIMIT.\n",
            "\n",
            "Increase the number of iterations (max_iter) or scale the data as shown in:\n",
            "    https://scikit-learn.org/stable/modules/preprocessing.html\n",
            "Please also refer to the documentation for alternative solver options:\n",
            "    https://scikit-learn.org/stable/modules/linear_model.html#logistic-regression\n",
            "  extra_warning_msg=_LOGISTIC_SOLVER_CONVERGENCE_MSG)\n",
            "/usr/local/lib/python3.6/dist-packages/sklearn/linear_model/_logistic.py:940: ConvergenceWarning: lbfgs failed to converge (status=1):\n",
            "STOP: TOTAL NO. of ITERATIONS REACHED LIMIT.\n",
            "\n",
            "Increase the number of iterations (max_iter) or scale the data as shown in:\n",
            "    https://scikit-learn.org/stable/modules/preprocessing.html\n",
            "Please also refer to the documentation for alternative solver options:\n",
            "    https://scikit-learn.org/stable/modules/linear_model.html#logistic-regression\n",
            "  extra_warning_msg=_LOGISTIC_SOLVER_CONVERGENCE_MSG)\n",
            "/usr/local/lib/python3.6/dist-packages/sklearn/linear_model/_logistic.py:940: ConvergenceWarning: lbfgs failed to converge (status=1):\n",
            "STOP: TOTAL NO. of ITERATIONS REACHED LIMIT.\n",
            "\n",
            "Increase the number of iterations (max_iter) or scale the data as shown in:\n",
            "    https://scikit-learn.org/stable/modules/preprocessing.html\n",
            "Please also refer to the documentation for alternative solver options:\n",
            "    https://scikit-learn.org/stable/modules/linear_model.html#logistic-regression\n",
            "  extra_warning_msg=_LOGISTIC_SOLVER_CONVERGENCE_MSG)\n",
            "/usr/local/lib/python3.6/dist-packages/sklearn/linear_model/_logistic.py:940: ConvergenceWarning: lbfgs failed to converge (status=1):\n",
            "STOP: TOTAL NO. of ITERATIONS REACHED LIMIT.\n",
            "\n",
            "Increase the number of iterations (max_iter) or scale the data as shown in:\n",
            "    https://scikit-learn.org/stable/modules/preprocessing.html\n",
            "Please also refer to the documentation for alternative solver options:\n",
            "    https://scikit-learn.org/stable/modules/linear_model.html#logistic-regression\n",
            "  extra_warning_msg=_LOGISTIC_SOLVER_CONVERGENCE_MSG)\n",
            "/usr/local/lib/python3.6/dist-packages/sklearn/linear_model/_logistic.py:940: ConvergenceWarning: lbfgs failed to converge (status=1):\n",
            "STOP: TOTAL NO. of ITERATIONS REACHED LIMIT.\n",
            "\n",
            "Increase the number of iterations (max_iter) or scale the data as shown in:\n",
            "    https://scikit-learn.org/stable/modules/preprocessing.html\n",
            "Please also refer to the documentation for alternative solver options:\n",
            "    https://scikit-learn.org/stable/modules/linear_model.html#logistic-regression\n",
            "  extra_warning_msg=_LOGISTIC_SOLVER_CONVERGENCE_MSG)\n",
            "/usr/local/lib/python3.6/dist-packages/sklearn/linear_model/_logistic.py:940: ConvergenceWarning: lbfgs failed to converge (status=1):\n",
            "STOP: TOTAL NO. of ITERATIONS REACHED LIMIT.\n",
            "\n",
            "Increase the number of iterations (max_iter) or scale the data as shown in:\n",
            "    https://scikit-learn.org/stable/modules/preprocessing.html\n",
            "Please also refer to the documentation for alternative solver options:\n",
            "    https://scikit-learn.org/stable/modules/linear_model.html#logistic-regression\n",
            "  extra_warning_msg=_LOGISTIC_SOLVER_CONVERGENCE_MSG)\n",
            "/usr/local/lib/python3.6/dist-packages/sklearn/metrics/_classification.py:1272: UndefinedMetricWarning: Precision is ill-defined and being set to 0.0 in labels with no predicted samples. Use `zero_division` parameter to control this behavior.\n",
            "  _warn_prf(average, modifier, msg_start, len(result))\n",
            "/usr/local/lib/python3.6/dist-packages/sklearn/linear_model/_logistic.py:940: ConvergenceWarning: lbfgs failed to converge (status=1):\n",
            "STOP: TOTAL NO. of ITERATIONS REACHED LIMIT.\n",
            "\n",
            "Increase the number of iterations (max_iter) or scale the data as shown in:\n",
            "    https://scikit-learn.org/stable/modules/preprocessing.html\n",
            "Please also refer to the documentation for alternative solver options:\n",
            "    https://scikit-learn.org/stable/modules/linear_model.html#logistic-regression\n",
            "  extra_warning_msg=_LOGISTIC_SOLVER_CONVERGENCE_MSG)\n",
            "/usr/local/lib/python3.6/dist-packages/sklearn/metrics/_classification.py:1272: UndefinedMetricWarning: Precision is ill-defined and being set to 0.0 in labels with no predicted samples. Use `zero_division` parameter to control this behavior.\n",
            "  _warn_prf(average, modifier, msg_start, len(result))\n",
            "/usr/local/lib/python3.6/dist-packages/sklearn/linear_model/_logistic.py:940: ConvergenceWarning: lbfgs failed to converge (status=1):\n",
            "STOP: TOTAL NO. of ITERATIONS REACHED LIMIT.\n",
            "\n",
            "Increase the number of iterations (max_iter) or scale the data as shown in:\n",
            "    https://scikit-learn.org/stable/modules/preprocessing.html\n",
            "Please also refer to the documentation for alternative solver options:\n",
            "    https://scikit-learn.org/stable/modules/linear_model.html#logistic-regression\n",
            "  extra_warning_msg=_LOGISTIC_SOLVER_CONVERGENCE_MSG)\n",
            "/usr/local/lib/python3.6/dist-packages/sklearn/metrics/_classification.py:1272: UndefinedMetricWarning: Precision is ill-defined and being set to 0.0 in labels with no predicted samples. Use `zero_division` parameter to control this behavior.\n",
            "  _warn_prf(average, modifier, msg_start, len(result))\n",
            "/usr/local/lib/python3.6/dist-packages/sklearn/linear_model/_logistic.py:940: ConvergenceWarning: lbfgs failed to converge (status=1):\n",
            "STOP: TOTAL NO. of ITERATIONS REACHED LIMIT.\n",
            "\n",
            "Increase the number of iterations (max_iter) or scale the data as shown in:\n",
            "    https://scikit-learn.org/stable/modules/preprocessing.html\n",
            "Please also refer to the documentation for alternative solver options:\n",
            "    https://scikit-learn.org/stable/modules/linear_model.html#logistic-regression\n",
            "  extra_warning_msg=_LOGISTIC_SOLVER_CONVERGENCE_MSG)\n",
            "/usr/local/lib/python3.6/dist-packages/sklearn/metrics/_classification.py:1272: UndefinedMetricWarning: Precision is ill-defined and being set to 0.0 in labels with no predicted samples. Use `zero_division` parameter to control this behavior.\n",
            "  _warn_prf(average, modifier, msg_start, len(result))\n",
            "/usr/local/lib/python3.6/dist-packages/sklearn/linear_model/_logistic.py:940: ConvergenceWarning: lbfgs failed to converge (status=1):\n",
            "STOP: TOTAL NO. of ITERATIONS REACHED LIMIT.\n",
            "\n",
            "Increase the number of iterations (max_iter) or scale the data as shown in:\n",
            "    https://scikit-learn.org/stable/modules/preprocessing.html\n",
            "Please also refer to the documentation for alternative solver options:\n",
            "    https://scikit-learn.org/stable/modules/linear_model.html#logistic-regression\n",
            "  extra_warning_msg=_LOGISTIC_SOLVER_CONVERGENCE_MSG)\n",
            "/usr/local/lib/python3.6/dist-packages/sklearn/metrics/_classification.py:1272: UndefinedMetricWarning: Precision is ill-defined and being set to 0.0 in labels with no predicted samples. Use `zero_division` parameter to control this behavior.\n",
            "  _warn_prf(average, modifier, msg_start, len(result))\n",
            "/usr/local/lib/python3.6/dist-packages/sklearn/linear_model/_logistic.py:940: ConvergenceWarning: lbfgs failed to converge (status=1):\n",
            "STOP: TOTAL NO. of ITERATIONS REACHED LIMIT.\n",
            "\n",
            "Increase the number of iterations (max_iter) or scale the data as shown in:\n",
            "    https://scikit-learn.org/stable/modules/preprocessing.html\n",
            "Please also refer to the documentation for alternative solver options:\n",
            "    https://scikit-learn.org/stable/modules/linear_model.html#logistic-regression\n",
            "  extra_warning_msg=_LOGISTIC_SOLVER_CONVERGENCE_MSG)\n",
            "/usr/local/lib/python3.6/dist-packages/sklearn/linear_model/_logistic.py:940: ConvergenceWarning: lbfgs failed to converge (status=1):\n",
            "STOP: TOTAL NO. of ITERATIONS REACHED LIMIT.\n",
            "\n",
            "Increase the number of iterations (max_iter) or scale the data as shown in:\n",
            "    https://scikit-learn.org/stable/modules/preprocessing.html\n",
            "Please also refer to the documentation for alternative solver options:\n",
            "    https://scikit-learn.org/stable/modules/linear_model.html#logistic-regression\n",
            "  extra_warning_msg=_LOGISTIC_SOLVER_CONVERGENCE_MSG)\n",
            "/usr/local/lib/python3.6/dist-packages/sklearn/linear_model/_logistic.py:940: ConvergenceWarning: lbfgs failed to converge (status=1):\n",
            "STOP: TOTAL NO. of ITERATIONS REACHED LIMIT.\n",
            "\n",
            "Increase the number of iterations (max_iter) or scale the data as shown in:\n",
            "    https://scikit-learn.org/stable/modules/preprocessing.html\n",
            "Please also refer to the documentation for alternative solver options:\n",
            "    https://scikit-learn.org/stable/modules/linear_model.html#logistic-regression\n",
            "  extra_warning_msg=_LOGISTIC_SOLVER_CONVERGENCE_MSG)\n",
            "/usr/local/lib/python3.6/dist-packages/sklearn/linear_model/_logistic.py:940: ConvergenceWarning: lbfgs failed to converge (status=1):\n",
            "STOP: TOTAL NO. of ITERATIONS REACHED LIMIT.\n",
            "\n",
            "Increase the number of iterations (max_iter) or scale the data as shown in:\n",
            "    https://scikit-learn.org/stable/modules/preprocessing.html\n",
            "Please also refer to the documentation for alternative solver options:\n",
            "    https://scikit-learn.org/stable/modules/linear_model.html#logistic-regression\n",
            "  extra_warning_msg=_LOGISTIC_SOLVER_CONVERGENCE_MSG)\n",
            "/usr/local/lib/python3.6/dist-packages/sklearn/linear_model/_logistic.py:940: ConvergenceWarning: lbfgs failed to converge (status=1):\n",
            "STOP: TOTAL NO. of ITERATIONS REACHED LIMIT.\n",
            "\n",
            "Increase the number of iterations (max_iter) or scale the data as shown in:\n",
            "    https://scikit-learn.org/stable/modules/preprocessing.html\n",
            "Please also refer to the documentation for alternative solver options:\n",
            "    https://scikit-learn.org/stable/modules/linear_model.html#logistic-regression\n",
            "  extra_warning_msg=_LOGISTIC_SOLVER_CONVERGENCE_MSG)\n",
            "/usr/local/lib/python3.6/dist-packages/sklearn/linear_model/_logistic.py:940: ConvergenceWarning: lbfgs failed to converge (status=1):\n",
            "STOP: TOTAL NO. of ITERATIONS REACHED LIMIT.\n",
            "\n",
            "Increase the number of iterations (max_iter) or scale the data as shown in:\n",
            "    https://scikit-learn.org/stable/modules/preprocessing.html\n",
            "Please also refer to the documentation for alternative solver options:\n",
            "    https://scikit-learn.org/stable/modules/linear_model.html#logistic-regression\n",
            "  extra_warning_msg=_LOGISTIC_SOLVER_CONVERGENCE_MSG)\n",
            "/usr/local/lib/python3.6/dist-packages/sklearn/linear_model/_logistic.py:940: ConvergenceWarning: lbfgs failed to converge (status=1):\n",
            "STOP: TOTAL NO. of ITERATIONS REACHED LIMIT.\n",
            "\n",
            "Increase the number of iterations (max_iter) or scale the data as shown in:\n",
            "    https://scikit-learn.org/stable/modules/preprocessing.html\n",
            "Please also refer to the documentation for alternative solver options:\n",
            "    https://scikit-learn.org/stable/modules/linear_model.html#logistic-regression\n",
            "  extra_warning_msg=_LOGISTIC_SOLVER_CONVERGENCE_MSG)\n",
            "/usr/local/lib/python3.6/dist-packages/sklearn/linear_model/_logistic.py:940: ConvergenceWarning: lbfgs failed to converge (status=1):\n",
            "STOP: TOTAL NO. of ITERATIONS REACHED LIMIT.\n",
            "\n",
            "Increase the number of iterations (max_iter) or scale the data as shown in:\n",
            "    https://scikit-learn.org/stable/modules/preprocessing.html\n",
            "Please also refer to the documentation for alternative solver options:\n",
            "    https://scikit-learn.org/stable/modules/linear_model.html#logistic-regression\n",
            "  extra_warning_msg=_LOGISTIC_SOLVER_CONVERGENCE_MSG)\n",
            "/usr/local/lib/python3.6/dist-packages/sklearn/linear_model/_logistic.py:940: ConvergenceWarning: lbfgs failed to converge (status=1):\n",
            "STOP: TOTAL NO. of ITERATIONS REACHED LIMIT.\n",
            "\n",
            "Increase the number of iterations (max_iter) or scale the data as shown in:\n",
            "    https://scikit-learn.org/stable/modules/preprocessing.html\n",
            "Please also refer to the documentation for alternative solver options:\n",
            "    https://scikit-learn.org/stable/modules/linear_model.html#logistic-regression\n",
            "  extra_warning_msg=_LOGISTIC_SOLVER_CONVERGENCE_MSG)\n",
            "/usr/local/lib/python3.6/dist-packages/sklearn/linear_model/_logistic.py:940: ConvergenceWarning: lbfgs failed to converge (status=1):\n",
            "STOP: TOTAL NO. of ITERATIONS REACHED LIMIT.\n",
            "\n",
            "Increase the number of iterations (max_iter) or scale the data as shown in:\n",
            "    https://scikit-learn.org/stable/modules/preprocessing.html\n",
            "Please also refer to the documentation for alternative solver options:\n",
            "    https://scikit-learn.org/stable/modules/linear_model.html#logistic-regression\n",
            "  extra_warning_msg=_LOGISTIC_SOLVER_CONVERGENCE_MSG)\n",
            "/usr/local/lib/python3.6/dist-packages/sklearn/linear_model/_logistic.py:940: ConvergenceWarning: lbfgs failed to converge (status=1):\n",
            "STOP: TOTAL NO. of ITERATIONS REACHED LIMIT.\n",
            "\n",
            "Increase the number of iterations (max_iter) or scale the data as shown in:\n",
            "    https://scikit-learn.org/stable/modules/preprocessing.html\n",
            "Please also refer to the documentation for alternative solver options:\n",
            "    https://scikit-learn.org/stable/modules/linear_model.html#logistic-regression\n",
            "  extra_warning_msg=_LOGISTIC_SOLVER_CONVERGENCE_MSG)\n",
            "/usr/local/lib/python3.6/dist-packages/sklearn/metrics/_classification.py:1272: UndefinedMetricWarning: Precision is ill-defined and being set to 0.0 in labels with no predicted samples. Use `zero_division` parameter to control this behavior.\n",
            "  _warn_prf(average, modifier, msg_start, len(result))\n",
            "/usr/local/lib/python3.6/dist-packages/sklearn/linear_model/_logistic.py:940: ConvergenceWarning: lbfgs failed to converge (status=1):\n",
            "STOP: TOTAL NO. of ITERATIONS REACHED LIMIT.\n",
            "\n",
            "Increase the number of iterations (max_iter) or scale the data as shown in:\n",
            "    https://scikit-learn.org/stable/modules/preprocessing.html\n",
            "Please also refer to the documentation for alternative solver options:\n",
            "    https://scikit-learn.org/stable/modules/linear_model.html#logistic-regression\n",
            "  extra_warning_msg=_LOGISTIC_SOLVER_CONVERGENCE_MSG)\n",
            "/usr/local/lib/python3.6/dist-packages/sklearn/metrics/_classification.py:1272: UndefinedMetricWarning: Precision is ill-defined and being set to 0.0 in labels with no predicted samples. Use `zero_division` parameter to control this behavior.\n",
            "  _warn_prf(average, modifier, msg_start, len(result))\n",
            "/usr/local/lib/python3.6/dist-packages/sklearn/linear_model/_logistic.py:940: ConvergenceWarning: lbfgs failed to converge (status=1):\n",
            "STOP: TOTAL NO. of ITERATIONS REACHED LIMIT.\n",
            "\n",
            "Increase the number of iterations (max_iter) or scale the data as shown in:\n",
            "    https://scikit-learn.org/stable/modules/preprocessing.html\n",
            "Please also refer to the documentation for alternative solver options:\n",
            "    https://scikit-learn.org/stable/modules/linear_model.html#logistic-regression\n",
            "  extra_warning_msg=_LOGISTIC_SOLVER_CONVERGENCE_MSG)\n",
            "/usr/local/lib/python3.6/dist-packages/sklearn/metrics/_classification.py:1272: UndefinedMetricWarning: Precision is ill-defined and being set to 0.0 in labels with no predicted samples. Use `zero_division` parameter to control this behavior.\n",
            "  _warn_prf(average, modifier, msg_start, len(result))\n",
            "/usr/local/lib/python3.6/dist-packages/sklearn/linear_model/_logistic.py:940: ConvergenceWarning: lbfgs failed to converge (status=1):\n",
            "STOP: TOTAL NO. of ITERATIONS REACHED LIMIT.\n",
            "\n",
            "Increase the number of iterations (max_iter) or scale the data as shown in:\n",
            "    https://scikit-learn.org/stable/modules/preprocessing.html\n",
            "Please also refer to the documentation for alternative solver options:\n",
            "    https://scikit-learn.org/stable/modules/linear_model.html#logistic-regression\n",
            "  extra_warning_msg=_LOGISTIC_SOLVER_CONVERGENCE_MSG)\n",
            "/usr/local/lib/python3.6/dist-packages/sklearn/metrics/_classification.py:1272: UndefinedMetricWarning: Precision is ill-defined and being set to 0.0 in labels with no predicted samples. Use `zero_division` parameter to control this behavior.\n",
            "  _warn_prf(average, modifier, msg_start, len(result))\n",
            "/usr/local/lib/python3.6/dist-packages/sklearn/linear_model/_logistic.py:940: ConvergenceWarning: lbfgs failed to converge (status=1):\n",
            "STOP: TOTAL NO. of ITERATIONS REACHED LIMIT.\n",
            "\n",
            "Increase the number of iterations (max_iter) or scale the data as shown in:\n",
            "    https://scikit-learn.org/stable/modules/preprocessing.html\n",
            "Please also refer to the documentation for alternative solver options:\n",
            "    https://scikit-learn.org/stable/modules/linear_model.html#logistic-regression\n",
            "  extra_warning_msg=_LOGISTIC_SOLVER_CONVERGENCE_MSG)\n",
            "/usr/local/lib/python3.6/dist-packages/sklearn/metrics/_classification.py:1272: UndefinedMetricWarning: Precision is ill-defined and being set to 0.0 in labels with no predicted samples. Use `zero_division` parameter to control this behavior.\n",
            "  _warn_prf(average, modifier, msg_start, len(result))\n",
            "/usr/local/lib/python3.6/dist-packages/sklearn/linear_model/_logistic.py:940: ConvergenceWarning: lbfgs failed to converge (status=1):\n",
            "STOP: TOTAL NO. of ITERATIONS REACHED LIMIT.\n",
            "\n",
            "Increase the number of iterations (max_iter) or scale the data as shown in:\n",
            "    https://scikit-learn.org/stable/modules/preprocessing.html\n",
            "Please also refer to the documentation for alternative solver options:\n",
            "    https://scikit-learn.org/stable/modules/linear_model.html#logistic-regression\n",
            "  extra_warning_msg=_LOGISTIC_SOLVER_CONVERGENCE_MSG)\n",
            "/usr/local/lib/python3.6/dist-packages/sklearn/linear_model/_logistic.py:940: ConvergenceWarning: lbfgs failed to converge (status=1):\n",
            "STOP: TOTAL NO. of ITERATIONS REACHED LIMIT.\n",
            "\n",
            "Increase the number of iterations (max_iter) or scale the data as shown in:\n",
            "    https://scikit-learn.org/stable/modules/preprocessing.html\n",
            "Please also refer to the documentation for alternative solver options:\n",
            "    https://scikit-learn.org/stable/modules/linear_model.html#logistic-regression\n",
            "  extra_warning_msg=_LOGISTIC_SOLVER_CONVERGENCE_MSG)\n",
            "/usr/local/lib/python3.6/dist-packages/sklearn/linear_model/_logistic.py:940: ConvergenceWarning: lbfgs failed to converge (status=1):\n",
            "STOP: TOTAL NO. of ITERATIONS REACHED LIMIT.\n",
            "\n",
            "Increase the number of iterations (max_iter) or scale the data as shown in:\n",
            "    https://scikit-learn.org/stable/modules/preprocessing.html\n",
            "Please also refer to the documentation for alternative solver options:\n",
            "    https://scikit-learn.org/stable/modules/linear_model.html#logistic-regression\n",
            "  extra_warning_msg=_LOGISTIC_SOLVER_CONVERGENCE_MSG)\n",
            "/usr/local/lib/python3.6/dist-packages/sklearn/linear_model/_logistic.py:940: ConvergenceWarning: lbfgs failed to converge (status=1):\n",
            "STOP: TOTAL NO. of ITERATIONS REACHED LIMIT.\n",
            "\n",
            "Increase the number of iterations (max_iter) or scale the data as shown in:\n",
            "    https://scikit-learn.org/stable/modules/preprocessing.html\n",
            "Please also refer to the documentation for alternative solver options:\n",
            "    https://scikit-learn.org/stable/modules/linear_model.html#logistic-regression\n",
            "  extra_warning_msg=_LOGISTIC_SOLVER_CONVERGENCE_MSG)\n",
            "/usr/local/lib/python3.6/dist-packages/sklearn/linear_model/_logistic.py:940: ConvergenceWarning: lbfgs failed to converge (status=1):\n",
            "STOP: TOTAL NO. of ITERATIONS REACHED LIMIT.\n",
            "\n",
            "Increase the number of iterations (max_iter) or scale the data as shown in:\n",
            "    https://scikit-learn.org/stable/modules/preprocessing.html\n",
            "Please also refer to the documentation for alternative solver options:\n",
            "    https://scikit-learn.org/stable/modules/linear_model.html#logistic-regression\n",
            "  extra_warning_msg=_LOGISTIC_SOLVER_CONVERGENCE_MSG)\n",
            "/usr/local/lib/python3.6/dist-packages/sklearn/linear_model/_logistic.py:940: ConvergenceWarning: lbfgs failed to converge (status=1):\n",
            "STOP: TOTAL NO. of ITERATIONS REACHED LIMIT.\n",
            "\n",
            "Increase the number of iterations (max_iter) or scale the data as shown in:\n",
            "    https://scikit-learn.org/stable/modules/preprocessing.html\n",
            "Please also refer to the documentation for alternative solver options:\n",
            "    https://scikit-learn.org/stable/modules/linear_model.html#logistic-regression\n",
            "  extra_warning_msg=_LOGISTIC_SOLVER_CONVERGENCE_MSG)\n",
            "/usr/local/lib/python3.6/dist-packages/sklearn/linear_model/_logistic.py:940: ConvergenceWarning: lbfgs failed to converge (status=1):\n",
            "STOP: TOTAL NO. of ITERATIONS REACHED LIMIT.\n",
            "\n",
            "Increase the number of iterations (max_iter) or scale the data as shown in:\n",
            "    https://scikit-learn.org/stable/modules/preprocessing.html\n",
            "Please also refer to the documentation for alternative solver options:\n",
            "    https://scikit-learn.org/stable/modules/linear_model.html#logistic-regression\n",
            "  extra_warning_msg=_LOGISTIC_SOLVER_CONVERGENCE_MSG)\n",
            "/usr/local/lib/python3.6/dist-packages/sklearn/linear_model/_logistic.py:940: ConvergenceWarning: lbfgs failed to converge (status=1):\n",
            "STOP: TOTAL NO. of ITERATIONS REACHED LIMIT.\n",
            "\n",
            "Increase the number of iterations (max_iter) or scale the data as shown in:\n",
            "    https://scikit-learn.org/stable/modules/preprocessing.html\n",
            "Please also refer to the documentation for alternative solver options:\n",
            "    https://scikit-learn.org/stable/modules/linear_model.html#logistic-regression\n",
            "  extra_warning_msg=_LOGISTIC_SOLVER_CONVERGENCE_MSG)\n",
            "/usr/local/lib/python3.6/dist-packages/sklearn/linear_model/_logistic.py:940: ConvergenceWarning: lbfgs failed to converge (status=1):\n",
            "STOP: TOTAL NO. of ITERATIONS REACHED LIMIT.\n",
            "\n",
            "Increase the number of iterations (max_iter) or scale the data as shown in:\n",
            "    https://scikit-learn.org/stable/modules/preprocessing.html\n",
            "Please also refer to the documentation for alternative solver options:\n",
            "    https://scikit-learn.org/stable/modules/linear_model.html#logistic-regression\n",
            "  extra_warning_msg=_LOGISTIC_SOLVER_CONVERGENCE_MSG)\n",
            "/usr/local/lib/python3.6/dist-packages/sklearn/linear_model/_logistic.py:940: ConvergenceWarning: lbfgs failed to converge (status=1):\n",
            "STOP: TOTAL NO. of ITERATIONS REACHED LIMIT.\n",
            "\n",
            "Increase the number of iterations (max_iter) or scale the data as shown in:\n",
            "    https://scikit-learn.org/stable/modules/preprocessing.html\n",
            "Please also refer to the documentation for alternative solver options:\n",
            "    https://scikit-learn.org/stable/modules/linear_model.html#logistic-regression\n",
            "  extra_warning_msg=_LOGISTIC_SOLVER_CONVERGENCE_MSG)\n",
            "/usr/local/lib/python3.6/dist-packages/sklearn/metrics/_classification.py:1272: UndefinedMetricWarning: Precision is ill-defined and being set to 0.0 in labels with no predicted samples. Use `zero_division` parameter to control this behavior.\n",
            "  _warn_prf(average, modifier, msg_start, len(result))\n",
            "/usr/local/lib/python3.6/dist-packages/sklearn/metrics/_classification.py:1272: UndefinedMetricWarning: Precision is ill-defined and being set to 0.0 in labels with no predicted samples. Use `zero_division` parameter to control this behavior.\n",
            "  _warn_prf(average, modifier, msg_start, len(result))\n",
            "/usr/local/lib/python3.6/dist-packages/sklearn/metrics/_classification.py:1272: UndefinedMetricWarning: Precision is ill-defined and being set to 0.0 in labels with no predicted samples. Use `zero_division` parameter to control this behavior.\n",
            "  _warn_prf(average, modifier, msg_start, len(result))\n",
            "/usr/local/lib/python3.6/dist-packages/sklearn/metrics/_classification.py:1272: UndefinedMetricWarning: Precision is ill-defined and being set to 0.0 in labels with no predicted samples. Use `zero_division` parameter to control this behavior.\n",
            "  _warn_prf(average, modifier, msg_start, len(result))\n",
            "/usr/local/lib/python3.6/dist-packages/sklearn/metrics/_classification.py:1272: UndefinedMetricWarning: Precision is ill-defined and being set to 0.0 in labels with no predicted samples. Use `zero_division` parameter to control this behavior.\n",
            "  _warn_prf(average, modifier, msg_start, len(result))\n",
            "/usr/local/lib/python3.6/dist-packages/sklearn/metrics/_classification.py:1272: UndefinedMetricWarning: Precision is ill-defined and being set to 0.0 in labels with no predicted samples. Use `zero_division` parameter to control this behavior.\n",
            "  _warn_prf(average, modifier, msg_start, len(result))\n",
            "/usr/local/lib/python3.6/dist-packages/sklearn/metrics/_classification.py:1272: UndefinedMetricWarning: Precision is ill-defined and being set to 0.0 in labels with no predicted samples. Use `zero_division` parameter to control this behavior.\n",
            "  _warn_prf(average, modifier, msg_start, len(result))\n",
            "/usr/local/lib/python3.6/dist-packages/sklearn/metrics/_classification.py:1272: UndefinedMetricWarning: Precision is ill-defined and being set to 0.0 in labels with no predicted samples. Use `zero_division` parameter to control this behavior.\n",
            "  _warn_prf(average, modifier, msg_start, len(result))\n",
            "/usr/local/lib/python3.6/dist-packages/sklearn/metrics/_classification.py:1272: UndefinedMetricWarning: Precision is ill-defined and being set to 0.0 in labels with no predicted samples. Use `zero_division` parameter to control this behavior.\n",
            "  _warn_prf(average, modifier, msg_start, len(result))\n",
            "/usr/local/lib/python3.6/dist-packages/sklearn/metrics/_classification.py:1272: UndefinedMetricWarning: Precision is ill-defined and being set to 0.0 in labels with no predicted samples. Use `zero_division` parameter to control this behavior.\n",
            "  _warn_prf(average, modifier, msg_start, len(result))\n",
            "/usr/local/lib/python3.6/dist-packages/sklearn/metrics/_classification.py:1272: UndefinedMetricWarning: Precision is ill-defined and being set to 0.0 in labels with no predicted samples. Use `zero_division` parameter to control this behavior.\n",
            "  _warn_prf(average, modifier, msg_start, len(result))\n",
            "/usr/local/lib/python3.6/dist-packages/sklearn/metrics/_classification.py:1272: UndefinedMetricWarning: Precision is ill-defined and being set to 0.0 in labels with no predicted samples. Use `zero_division` parameter to control this behavior.\n",
            "  _warn_prf(average, modifier, msg_start, len(result))\n",
            "/usr/local/lib/python3.6/dist-packages/sklearn/metrics/_classification.py:1272: UndefinedMetricWarning: Precision is ill-defined and being set to 0.0 in labels with no predicted samples. Use `zero_division` parameter to control this behavior.\n",
            "  _warn_prf(average, modifier, msg_start, len(result))\n",
            "/usr/local/lib/python3.6/dist-packages/sklearn/metrics/_classification.py:1272: UndefinedMetricWarning: Precision is ill-defined and being set to 0.0 in labels with no predicted samples. Use `zero_division` parameter to control this behavior.\n",
            "  _warn_prf(average, modifier, msg_start, len(result))\n",
            "/usr/local/lib/python3.6/dist-packages/sklearn/metrics/_classification.py:1272: UndefinedMetricWarning: Precision is ill-defined and being set to 0.0 in labels with no predicted samples. Use `zero_division` parameter to control this behavior.\n",
            "  _warn_prf(average, modifier, msg_start, len(result))\n",
            "/usr/local/lib/python3.6/dist-packages/sklearn/metrics/_classification.py:1272: UndefinedMetricWarning: Precision is ill-defined and being set to 0.0 in labels with no predicted samples. Use `zero_division` parameter to control this behavior.\n",
            "  _warn_prf(average, modifier, msg_start, len(result))\n",
            "/usr/local/lib/python3.6/dist-packages/sklearn/metrics/_classification.py:1272: UndefinedMetricWarning: Precision is ill-defined and being set to 0.0 in labels with no predicted samples. Use `zero_division` parameter to control this behavior.\n",
            "  _warn_prf(average, modifier, msg_start, len(result))\n",
            "/usr/local/lib/python3.6/dist-packages/sklearn/metrics/_classification.py:1272: UndefinedMetricWarning: Precision is ill-defined and being set to 0.0 in labels with no predicted samples. Use `zero_division` parameter to control this behavior.\n",
            "  _warn_prf(average, modifier, msg_start, len(result))\n",
            "/usr/local/lib/python3.6/dist-packages/sklearn/metrics/_classification.py:1272: UndefinedMetricWarning: Precision is ill-defined and being set to 0.0 in labels with no predicted samples. Use `zero_division` parameter to control this behavior.\n",
            "  _warn_prf(average, modifier, msg_start, len(result))\n",
            "/usr/local/lib/python3.6/dist-packages/sklearn/metrics/_classification.py:1272: UndefinedMetricWarning: Precision is ill-defined and being set to 0.0 in labels with no predicted samples. Use `zero_division` parameter to control this behavior.\n",
            "  _warn_prf(average, modifier, msg_start, len(result))\n"
          ],
          "name": "stderr"
        }
      ]
    },
    {
      "cell_type": "code",
      "metadata": {
        "id": "oM-8TDPXWAT5",
        "outputId": "1864264a-031c-459b-cf46-126d5cb712e1",
        "colab": {
          "base_uri": "https://localhost:8080/",
          "height": 244
        }
      },
      "source": [
        "results_cv_straitified_1gram"
      ],
      "execution_count": 46,
      "outputs": [
        {
          "output_type": "execute_result",
          "data": {
            "text/html": [
              "<div>\n",
              "<style scoped>\n",
              "    .dataframe tbody tr th:only-of-type {\n",
              "        vertical-align: middle;\n",
              "    }\n",
              "\n",
              "    .dataframe tbody tr th {\n",
              "        vertical-align: top;\n",
              "    }\n",
              "\n",
              "    .dataframe thead th {\n",
              "        text-align: right;\n",
              "    }\n",
              "</style>\n",
              "<table border=\"1\" class=\"dataframe\">\n",
              "  <thead>\n",
              "    <tr style=\"text-align: right;\">\n",
              "      <th></th>\n",
              "      <th>index</th>\n",
              "      <th>Model</th>\n",
              "      <th>Accuracy</th>\n",
              "      <th>Macro Precision</th>\n",
              "      <th>Macro Recall</th>\n",
              "      <th>Macro F1score</th>\n",
              "      <th>Weighted Precision</th>\n",
              "      <th>Weighted Recall</th>\n",
              "      <th>Weighted F1</th>\n",
              "      <th>Time taken</th>\n",
              "    </tr>\n",
              "  </thead>\n",
              "  <tbody>\n",
              "    <tr>\n",
              "      <th>0</th>\n",
              "      <td>0</td>\n",
              "      <td>MultinomialNB1</td>\n",
              "      <td>0.230176</td>\n",
              "      <td>0.142337</td>\n",
              "      <td>0.069107</td>\n",
              "      <td>0.062046</td>\n",
              "      <td>0.274313</td>\n",
              "      <td>0.230176</td>\n",
              "      <td>0.157324</td>\n",
              "      <td>9.666587</td>\n",
              "    </tr>\n",
              "    <tr>\n",
              "      <th>1</th>\n",
              "      <td>0</td>\n",
              "      <td>GaussianNB1</td>\n",
              "      <td>0.152451</td>\n",
              "      <td>0.094767</td>\n",
              "      <td>0.070499</td>\n",
              "      <td>0.074990</td>\n",
              "      <td>0.146575</td>\n",
              "      <td>0.152451</td>\n",
              "      <td>0.136149</td>\n",
              "      <td>62.069822</td>\n",
              "    </tr>\n",
              "    <tr>\n",
              "      <th>2</th>\n",
              "      <td>0</td>\n",
              "      <td>LogisticRegression1</td>\n",
              "      <td>0.387359</td>\n",
              "      <td>0.318203</td>\n",
              "      <td>0.204730</td>\n",
              "      <td>0.212778</td>\n",
              "      <td>0.411003</td>\n",
              "      <td>0.387359</td>\n",
              "      <td>0.349319</td>\n",
              "      <td>871.207369</td>\n",
              "    </tr>\n",
              "    <tr>\n",
              "      <th>3</th>\n",
              "      <td>0</td>\n",
              "      <td>RandomForest1</td>\n",
              "      <td>0.189026</td>\n",
              "      <td>0.157409</td>\n",
              "      <td>0.049554</td>\n",
              "      <td>0.036006</td>\n",
              "      <td>0.334421</td>\n",
              "      <td>0.189026</td>\n",
              "      <td>0.100353</td>\n",
              "      <td>88.440698</td>\n",
              "    </tr>\n",
              "    <tr>\n",
              "      <th>4</th>\n",
              "      <td>0</td>\n",
              "      <td>LinearSVC1</td>\n",
              "      <td>0.366546</td>\n",
              "      <td>0.286060</td>\n",
              "      <td>0.252944</td>\n",
              "      <td>0.256695</td>\n",
              "      <td>0.347724</td>\n",
              "      <td>0.366546</td>\n",
              "      <td>0.349839</td>\n",
              "      <td>28.118952</td>\n",
              "    </tr>\n",
              "  </tbody>\n",
              "</table>\n",
              "</div>"
            ],
            "text/plain": [
              "   index                Model  ...  Weighted F1  Time taken\n",
              "0      0       MultinomialNB1  ...     0.157324    9.666587\n",
              "1      0          GaussianNB1  ...     0.136149   62.069822\n",
              "2      0  LogisticRegression1  ...     0.349319  871.207369\n",
              "3      0        RandomForest1  ...     0.100353   88.440698\n",
              "4      0           LinearSVC1  ...     0.349839   28.118952\n",
              "\n",
              "[5 rows x 10 columns]"
            ]
          },
          "metadata": {
            "tags": []
          },
          "execution_count": 46
        }
      ]
    },
    {
      "cell_type": "markdown",
      "metadata": {
        "id": "TNTjuwAO2nNp"
      },
      "source": [
        "### Logistic Regression gives us the highest accuracy of 39%."
      ]
    },
    {
      "cell_type": "code",
      "metadata": {
        "id": "xyggSDCPWAT-"
      },
      "source": [
        "# Saving our results because I don't wanna re-train the whole damn thing\n",
        "with open('results_cv_straitified_1gram_df.pickle', 'wb') as to_write:\n",
        "  pickle.dump(results_cv_straitified_1gram, to_write)"
      ],
      "execution_count": 47,
      "outputs": []
    },
    {
      "cell_type": "code",
      "metadata": {
        "id": "-_ccp2S4WAUG"
      },
      "source": [
        "# Loading our pickled results\n",
        "with open('results_cv_straitified_1gram_df.pickle', 'rb') as to_read:\n",
        "    results_cv_straitified_1gram = pickle.load(to_read)"
      ],
      "execution_count": 48,
      "outputs": []
    },
    {
      "cell_type": "markdown",
      "metadata": {
        "id": "n-8xfZSHWAUO"
      },
      "source": [
        "### Section 3.3.2: 2-gram (Keep running into memory issues, therefore, this will not be tested anymore)"
      ]
    },
    {
      "cell_type": "code",
      "metadata": {
        "id": "8h6jIZ8tWAUP",
        "outputId": "56573105-2b7f-42c0-e158-0d6b7544d08a",
        "colab": {
          "base_uri": "https://localhost:8080/",
          "height": 175
        }
      },
      "source": [
        "### Keep running into memory issues with 2-gram. Therefore, will not test it anymore\n",
        "\n",
        "'''# Testing on all Models using 2-gram \n",
        "\n",
        "# Initialize Model Object\n",
        "gnb = GaussianNB()\n",
        "mnb = MultinomialNB()\n",
        "logit = LogisticRegression(random_state=seed)\n",
        "knn = KNeighborsClassifier()\n",
        "decisiontree = DecisionTreeClassifier(random_state=seed)\n",
        "randomforest = RandomForestClassifier(n_estimators=100, max_depth=5, random_state=0)\n",
        "linearsvc = LinearSVC()\n",
        "\n",
        "# # to concat all models\n",
        "results_cv_straitified_2gram = pd.concat([metric_cv_stratified(mnb, X_train_val_tfidf2, y_train_val, 5, 'MultinomialNB2'),\n",
        "                                          metric_cv_stratified(gnb, X_train_val_tfidf2, y_train_val, 5, 'GaussianNB2'),\n",
        "                                          metric_cv_stratified(logit, X_train_val_tfidf2, y_train_val, 5, 'LogisticRegression2'),\n",
        "                                          metric_cv_stratified(randomforest, X_train_val_tfidf2, y_train_val, 5, 'RandomForest2'),\n",
        "                                          metric_cv_stratified(linearsvc, X_train_val_tfidf2, y_train_val, 5, 'LinearSVC2')\n",
        "                                          ], axis=0).reset_index()'''"
      ],
      "execution_count": null,
      "outputs": [
        {
          "output_type": "execute_result",
          "data": {
            "application/vnd.google.colaboratory.intrinsic+json": {
              "type": "string"
            },
            "text/plain": [
              "\"# Testing on all Models using 2-gram \\n\\n# Initialize Model Object\\ngnb = GaussianNB()\\nmnb = MultinomialNB()\\nlogit = LogisticRegression(random_state=seed)\\nknn = KNeighborsClassifier()\\ndecisiontree = DecisionTreeClassifier(random_state=seed)\\nrandomforest = RandomForestClassifier(n_estimators=100, max_depth=5, random_state=0)\\nlinearsvc = LinearSVC()\\n\\n# # to concat all models\\nresults_cv_straitified_2gram = pd.concat([metric_cv_stratified(mnb, X_train_val_tfidf2, y_train_val, 5, 'MultinomialNB2'),\\n                                          metric_cv_stratified(gnb, X_train_val_tfidf2, y_train_val, 5, 'GaussianNB2'),\\n                                          metric_cv_stratified(logit, X_train_val_tfidf2, y_train_val, 5, 'LogisticRegression2'),\\n                                          metric_cv_stratified(randomforest, X_train_val_tfidf2, y_train_val, 5, 'RandomForest2'),\\n                                          metric_cv_stratified(linearsvc, X_train_val_tfidf2, y_train_val, 5, 'LinearSVC2')\\n                                          ], axis=0).reset_index()\""
            ]
          },
          "metadata": {
            "tags": []
          },
          "execution_count": 99
        }
      ]
    },
    {
      "cell_type": "code",
      "metadata": {
        "id": "UzeTQ9I0WAUX"
      },
      "source": [
        "#results_cv_straitified_2gram"
      ],
      "execution_count": null,
      "outputs": []
    },
    {
      "cell_type": "markdown",
      "metadata": {
        "id": "zGe8Wlq520p9"
      },
      "source": [
        "Instead of utilizing Vectorization (Tf-idfVectorizer that we used above), we can utilize WordEmbedding on the complaints before feeding them into our classifiers.\n",
        "https://towardsdatascience.com/word2vec-skip-gram-model-part-1-intuition-78614e4d6e0b\n",
        "\n",
        "https://towardsdatascience.com/the-three-main-branches-of-word-embeddings-7b90fa36dfb9"
      ]
    },
    {
      "cell_type": "code",
      "metadata": {
        "id": "mrNhjx3CWAZQ"
      },
      "source": [
        "# tfidf1 = 1-gram only. \n",
        "tfidf1 = TfidfVectorizer(sublinear_tf=True, # set to true to scale the term frequency in logarithmic scale.\n",
        "                        min_df=5,\n",
        "                        stop_words='english')\n",
        "X_train_val_tfidf1 = tfidf1.fit_transform(X_train_val).toarray()\n",
        "X_test_tfidf1 = tfidf1.transform(X_test)"
      ],
      "execution_count": 49,
      "outputs": []
    },
    {
      "cell_type": "code",
      "metadata": {
        "id": "Qio7Dk-0G73r"
      },
      "source": [
        "# Loading our saved models\n",
        "# Consider training on the whole data instead now?\n",
        "# Pickle trained Model for use in Flask App\n",
        "with open('cc_fitted_tfidf_to_use.pickle', 'wb') as to_write:\n",
        "    pickle.dump(tfidf1, to_write)\n",
        "with open('cc_fitted_tfidf_to_use.pickle', 'rb') as to_read:  # loading the fitted tfidf with our 80% trained data\n",
        "    fitted_tfidf_to_use = pickle.load(to_read)"
      ],
      "execution_count": 50,
      "outputs": []
    },
    {
      "cell_type": "code",
      "metadata": {
        "id": "2rwhXSgxWAZU",
        "outputId": "1b3c0e66-76b5-48e5-d880-e9df5abc2a05",
        "colab": {
          "base_uri": "https://localhost:8080/"
        }
      },
      "source": [
        "# Initializing our chosen logreg model\n",
        "logit = LogisticRegression()\n",
        "\n",
        "# Fitting our model\n",
        "logit_finalized = logit.fit(X_train_val_tfidf1, y_train_val)\n",
        "\n",
        "# Obtaining prediction\n",
        "y_pred = logit_finalized.predict(X_test_tfidf1)"
      ],
      "execution_count": 51,
      "outputs": [
        {
          "output_type": "stream",
          "text": [
            "/usr/local/lib/python3.6/dist-packages/sklearn/linear_model/_logistic.py:940: ConvergenceWarning: lbfgs failed to converge (status=1):\n",
            "STOP: TOTAL NO. of ITERATIONS REACHED LIMIT.\n",
            "\n",
            "Increase the number of iterations (max_iter) or scale the data as shown in:\n",
            "    https://scikit-learn.org/stable/modules/preprocessing.html\n",
            "Please also refer to the documentation for alternative solver options:\n",
            "    https://scikit-learn.org/stable/modules/linear_model.html#logistic-regression\n",
            "  extra_warning_msg=_LOGISTIC_SOLVER_CONVERGENCE_MSG)\n"
          ],
          "name": "stderr"
        }
      ]
    },
    {
      "cell_type": "code",
      "metadata": {
        "id": "Q--EsGd9WAZZ"
      },
      "source": [
        "# Pickle trained Model for use in Flask App\n",
        "with open('cc_logit_finalized.pickle', 'wb') as to_write:\n",
        "    pickle.dump(logit_finalized, to_write)\n",
        "with open('cc_logit_finalized.pickle', 'rb') as to_read:  # loading our model\n",
        "    logit_finalized = pickle.load(to_read)"
      ],
      "execution_count": 52,
      "outputs": []
    },
    {
      "cell_type": "code",
      "metadata": {
        "id": "B1iYfXO0WAZi"
      },
      "source": [
        "# Create a function to calculate the error metrics, since we'll be doing this several times\n",
        "from sklearn.metrics import confusion_matrix\n",
        "import matplotlib.pyplot as plt\n",
        "import seaborn as sns\n",
        "%matplotlib inline\n",
        "\n",
        "def conf_matrix(actual, predicted):\n",
        "    \n",
        "    # Creates a dataframe of the ISSUE to their respective ISSUE_ID\n",
        "    category_id_df = df_cc[['ISSUE', 'ISSUE_ID']].drop_duplicates()\n",
        "\n",
        "    # Dictionaries for future use. Creating our cheatsheets for what each encoded label represents.\n",
        "    category_to_id = dict(category_id_df.values) # Creates a ISSUE: ISSUE_ID key-value pair\n",
        "    id_to_category = dict(category_id_df[['ISSUE_ID', 'ISSUE']].values)  # Creates a ISSUE_ID: ISSUE key-value pair\n",
        "\n",
        "    conf_mat = confusion_matrix(y_test, y_pred)\n",
        "    fig, ax = plt.subplots(figsize=(8,8))\n",
        "    g= sns.heatmap(conf_mat, \n",
        "                   annot=True, annot_kws={\"size\":10},\n",
        "                   cmap=plt.cm.Reds, square=True,\n",
        "                   fmt='d',\n",
        "                   xticklabels=category_id_df.ISSUE.values, \n",
        "                   yticklabels=category_id_df.ISSUE.values)\n",
        "    \n",
        "#     # Changing the size of the xticks and ytick labels\n",
        "#     ax.set_yticklabels(g.get_yticklabels(), rotation=90, size=10);\n",
        "#     ax.set_xticklabels(g.get_xticklabels(), size=10);\n",
        "    \n",
        "    # Changing axis orientation & setting titles\n",
        "    ax.set_xlabel('Prediction', size=15)\n",
        "    ax.set_ylabel('Actual', rotation=0, labelpad=40,size=15)\n",
        "\n",
        "#     plt.title(\"CONFUSION MATRIX - {}\\n\".format(name), size=16);\n",
        "    \n",
        "    bottom, top = ax.get_ylim()\n",
        "    ax.set_ylim(bottom + 0.5, top - 0.5)"
      ],
      "execution_count": 53,
      "outputs": []
    },
    {
      "cell_type": "code",
      "metadata": {
        "id": "NKgl0aAHWAZs",
        "outputId": "ae163639-4f14-47d8-fcbb-0acc5d035f56",
        "colab": {
          "base_uri": "https://localhost:8080/",
          "height": 1000
        }
      },
      "source": [
        "'''with open('results_highest_accuracy.pickle', 'rb') as to_read:\n",
        "    results_highest_accuracy = pickle.load(to_read)\n",
        "\n",
        "results_highest_accuracy'''\n",
        "\n",
        "# Score model\n",
        "print(\"---------------------------------------------------------\")\n",
        "print(\"LogisticRegression (1-gram) 80% TRAIN/20% TEST SCORES:\")\n",
        "print(\"---------------------------------------------------------\")\n",
        "print('\\n')\n",
        "#print('Train/Cross-Validation Test Accuracy Score (also micro F1) for LogisticRegression: {:.4f}'.format(results_highest_accuracy.Accuracy.max()))\n",
        "print('Final Test Accuracy Score (also micro F1) for LogisticRegression: {:.4f}'.format(accuracy_score(y_test, y_pred)))\n",
        "print('\\n')\n",
        "print('Macro Precision Score for LogisticRegression: {:.4f}'.format(precision_score(y_test, y_pred, average='macro')))\n",
        "print('Macro Recall Score for LogisticRegression: {:.4f}'.format(recall_score(y_test, y_pred, average='macro')))\n",
        "print('Macro F1 score = {:.4f}'.format(f1_score(y_test, y_pred, average='macro')))\n",
        "print('\\n')\n",
        "print('Micro Precision Score for LogisticRegression: {:.4f}'.format(precision_score(y_test, y_pred, average='micro')))\n",
        "print('Micro Recall Score for LogisticRegression: {:.4f}'.format(recall_score(y_test, y_pred, average='micro')))\n",
        "print('Micro F1 score = {:.4f}'.format(f1_score(y_test, y_pred, average='micro')))\n",
        "print('\\n')\n",
        "print('Weighted Precision Score for LogisticRegression: {:.4f}'.format(precision_score(y_test, y_pred, average='weighted')))\n",
        "print('Weighted Recall Score for LogisticRegression: {:.4f}'.format(recall_score(y_test, y_pred, average='weighted')))\n",
        "print('Weighted F1 score = {:.4f}'.format(f1_score(y_test, y_pred, average='weighted')))\n",
        "print('\\n')\n",
        "print('Classification report for LogisticRegression (1-gram):\\n {}'.format(classification_report(y_test, \n",
        "                                                                                             y_pred,\n",
        "                                                                                             target_names=df_cc.ISSUE.unique())))\n",
        "print('Confusion Matrix for LogisticRegression (1-gram):\\n'.format(conf_matrix(y_test, y_pred)))"
      ],
      "execution_count": 54,
      "outputs": [
        {
          "output_type": "stream",
          "text": [
            "---------------------------------------------------------\n",
            "LogisticRegression (1-gram) 80% TRAIN/20% TEST SCORES:\n",
            "---------------------------------------------------------\n",
            "\n",
            "\n",
            "Final Test Accuracy Score (also micro F1) for LogisticRegression: 0.4250\n",
            "\n",
            "\n",
            "Macro Precision Score for LogisticRegression: 0.3240\n",
            "Macro Recall Score for LogisticRegression: 0.2406\n",
            "Macro F1 score = 0.2526\n",
            "\n",
            "\n",
            "Micro Precision Score for LogisticRegression: 0.4250\n",
            "Micro Recall Score for LogisticRegression: 0.4250\n",
            "Micro F1 score = 0.4250\n",
            "\n",
            "\n",
            "Weighted Precision Score for LogisticRegression: 0.4323\n",
            "Weighted Recall Score for LogisticRegression: 0.4250\n",
            "Weighted F1 score = 0.3922\n",
            "\n",
            "\n",
            "Classification report for LogisticRegression (1-gram):\n",
            "                                           precision    recall  f1-score   support\n",
            "\n",
            "                                   Other       0.25      0.36      0.29       166\n",
            "   Identity theft / Fraud / Embezzlement       0.52      0.60      0.56       144\n",
            "                                Late fee       0.57      0.61      0.59        71\n",
            "               Advertising and marketing       0.49      0.45      0.47        77\n",
            "              Closing/Cancelling account       0.54      0.65      0.59       124\n",
            "                    Credit determination       0.64      0.29      0.39        49\n",
            "   Customer service / Customer relations       0.32      0.14      0.20        83\n",
            "Credit card protection / Debt protection       0.33      0.04      0.07        53\n",
            "                               Other fee       0.44      0.18      0.26        44\n",
            "                    APR or interest rate       0.56      0.61      0.58        76\n",
            "                          Payoff process       0.29      0.05      0.08        44\n",
            "                                 Rewards       0.64      0.67      0.66        57\n",
            "                                 Privacy       0.00      0.00      0.00        11\n",
            "           Credit line increase/decrease       0.76      0.54      0.63        41\n",
            "                       Transaction issue       0.50      0.02      0.04        50\n",
            "                        Billing disputes       0.34      0.71      0.46       244\n",
            "                      Delinquent account       0.32      0.19      0.23        81\n",
            "     Unsolicited issuance of credit card       0.60      0.33      0.43        36\n",
            "                       Billing statement       0.52      0.20      0.29        60\n",
            "            Application processing delay       0.00      0.00      0.00         7\n",
            "                         Sale of account       0.00      0.00      0.00         8\n",
            "                    Balance transfer fee       0.00      0.00      0.00         4\n",
            "                             Arbitration       0.00      0.00      0.00         6\n",
            "             Forbearance / Workout plans       0.00      0.00      0.00         6\n",
            "                        Balance transfer       0.69      0.39      0.50        23\n",
            "                           Overlimit fee       0.00      0.00      0.00         3\n",
            "                              Bankruptcy       0.40      0.20      0.27        10\n",
            "                            Cash advance       0.00      0.00      0.00         2\n",
            "                      Convenience checks       0.00      0.00      0.00         2\n",
            "                        Cash advance fee       0.00      0.00      0.00         4\n",
            "\n",
            "                                accuracy                           0.42      1586\n",
            "                               macro avg       0.32      0.24      0.25      1586\n",
            "                            weighted avg       0.43      0.42      0.39      1586\n",
            "\n"
          ],
          "name": "stdout"
        },
        {
          "output_type": "stream",
          "text": [
            "/usr/local/lib/python3.6/dist-packages/sklearn/metrics/_classification.py:1272: UndefinedMetricWarning: Precision is ill-defined and being set to 0.0 in labels with no predicted samples. Use `zero_division` parameter to control this behavior.\n",
            "  _warn_prf(average, modifier, msg_start, len(result))\n",
            "/usr/local/lib/python3.6/dist-packages/sklearn/metrics/_classification.py:1272: UndefinedMetricWarning: Precision and F-score are ill-defined and being set to 0.0 in labels with no predicted samples. Use `zero_division` parameter to control this behavior.\n",
            "  _warn_prf(average, modifier, msg_start, len(result))\n"
          ],
          "name": "stderr"
        },
        {
          "output_type": "stream",
          "text": [
            "Confusion Matrix for LogisticRegression (1-gram):\n",
            "\n"
          ],
          "name": "stdout"
        },
        {
          "output_type": "display_data",
          "data": {
            "image/png": "[encoded data removed]",
            "text/plain": [
              "<Figure size 576x576 with 2 Axes>"
            ]
          },
          "metadata": {
            "tags": [],
            "needs_background": "light"
          }
        }
      ]
    },
    {
      "cell_type": "code",
      "metadata": {
        "id": "W6-8g83jWAZx",
        "outputId": "9c76f4a9-56e4-4e9c-8d70-4b04b7c94bde",
        "colab": {
          "base_uri": "https://localhost:8080/",
          "height": 655
        }
      },
      "source": [
        "conf_matrix(y_test, y_pred)\n",
        "plt.savefig('confusion_matrix', transparent=True)"
      ],
      "execution_count": 64,
      "outputs": [
        {
          "output_type": "display_data",
          "data": {
            "image/png": "[encoded data removed]",
            "text/plain": [
              "<Figure size 576x576 with 2 Axes>"
            ]
          },
          "metadata": {
            "tags": [],
            "needs_background": "light"
          }
        }
      ]
    },
    {
      "cell_type": "markdown",
      "metadata": {
        "id": "EouXjoefWAaF"
      },
      "source": [
        "## Section 5.1: Random Complaint 1"
      ]
    },
    {
      "cell_type": "code",
      "metadata": {
        "id": "vF3L9VHXWAaG",
        "scrolled": true,
        "outputId": "b48c7df9-294e-40a6-d79f-11211fd1ba95",
        "colab": {
          "base_uri": "https://localhost:8080/"
        }
      },
      "source": [
        "# Using our models\n",
        "\n",
        "complaint = \"\"\"\n",
        "omg where is my money\n",
        "aosidnoiandnaiosdnasd This is bullshit!! where is my money!!!\n",
        "I TRANSFERRED IT BUT IT JUST DISAPPEARED INTO THIN AIR.\n",
        "WHAT KIND OF A BANK ARE YOU?\n",
        "ARE YOU A BANK OR A THIEF?\"\"\"\n",
        "\n",
        "# After fitting the tfidf vectorizor, then you can do transforms!\n",
        "new_vectorized_complaint = fitted_tfidf_to_use.transform([complaint])\n",
        "\n",
        "# Fitting vectorized complaint into model\n",
        "y_customized_prediction = logit_finalized.predict(new_vectorized_complaint)\n",
        "y_customized_prediction[0]"
      ],
      "execution_count": 55,
      "outputs": [
        {
          "output_type": "execute_result",
          "data": {
            "text/plain": [
              "15"
            ]
          },
          "metadata": {
            "tags": []
          },
          "execution_count": 55
        }
      ]
    },
    {
      "cell_type": "markdown",
      "metadata": {
        "id": "FnrPeyFxWAaK"
      },
      "source": [
        "## Section 5.1: Random Complaint 2"
      ]
    },
    {
      "cell_type": "code",
      "metadata": {
        "id": "s2hfCsT6WAaL",
        "outputId": "73e4939c-f38a-40ed-b152-5a3692151788",
        "colab": {
          "base_uri": "https://localhost:8080/"
        }
      },
      "source": [
        "# Using our models\n",
        "\n",
        "complaint_2 = \"\"\"\n",
        "I borrowed money from you guys but it seems that the interest terms are unclear?\n",
        "Please shed some more light on this because i seem to be overcharged this month and I don't want to pay more than I should\n",
        "\"\"\"\n",
        "\n",
        "# After fitting the tfidf vectorizor, then you can do transforms!\n",
        "new_vectorized_complaint_2 = fitted_tfidf_to_use.transform([complaint_2])\n",
        "\n",
        "# Fitting vectorized complaint into model\n",
        "y_customized_prediction = logit_finalized.predict(new_vectorized_complaint_2)\n",
        "y_customized_prediction"
      ],
      "execution_count": 56,
      "outputs": [
        {
          "output_type": "execute_result",
          "data": {
            "text/plain": [
              "array([15])"
            ]
          },
          "metadata": {
            "tags": []
          },
          "execution_count": 56
        }
      ]
    },
    {
      "cell_type": "code",
      "metadata": {
        "id": "owhbHSSOWAaP"
      },
      "source": [
        "# Not bad! Our model actually does do a pretty good job at predicting"
      ],
      "execution_count": null,
      "outputs": []
    },
    {
      "cell_type": "markdown",
      "metadata": {
        "id": "nwMY3BF9WAaT"
      },
      "source": [
        "## Section 5.2: Random Complaint 3 with no relevance at all"
      ]
    },
    {
      "cell_type": "markdown",
      "metadata": {
        "id": "I1gbBrxHWAaT"
      },
      "source": [
        "What about _completely_ irrelevant topics?"
      ]
    },
    {
      "cell_type": "code",
      "metadata": {
        "id": "kM5P2ivPWAaV",
        "outputId": "b8f827e3-31e6-45f6-df9d-7db51d1268fe",
        "colab": {
          "base_uri": "https://localhost:8080/"
        }
      },
      "source": [
        "# Using our models\n",
        "\n",
        "complaint_3 = \"\"\"I love macdonalds\"\"\"\n",
        "\n",
        "# After fitting the tfidf vectorizor, then you can do transforms!\n",
        "new_vectorized_complaint_3 = fitted_tfidf_to_use.transform([complaint_3])\n",
        "\n",
        "# Fitting vectorized complaint into model\n",
        "y_customized_prediction = logit_finalized.predict(new_vectorized_complaint_3)\n",
        "y_customized_prediction"
      ],
      "execution_count": 57,
      "outputs": [
        {
          "output_type": "execute_result",
          "data": {
            "text/plain": [
              "array([0])"
            ]
          },
          "metadata": {
            "tags": []
          },
          "execution_count": 57
        }
      ]
    },
    {
      "cell_type": "markdown",
      "metadata": {
        "id": "-bXjGNiHWAaY"
      },
      "source": [
        "## Section 5.3: Random Complaint 4 with no relevance at all"
      ]
    },
    {
      "cell_type": "code",
      "metadata": {
        "id": "BifJVNvFWAaZ",
        "outputId": "4255010e-f483-439c-be99-51ee3dbecd1b",
        "colab": {
          "base_uri": "https://localhost:8080/"
        }
      },
      "source": [
        "# Using our models\n",
        "\n",
        "complaint_4 = \"\"\"Pair programming is not fun\"\"\"\n",
        "\n",
        "# After fitting the tfidf vectorizor, then you can do transforms!\n",
        "new_vectorized_complaint_4 = fitted_tfidf_to_use.transform([complaint_4])\n",
        "\n",
        "# Fitting vectorized complaint into model\n",
        "y_customized_prediction = logit_finalized.predict(new_vectorized_complaint_4)\n",
        "y_customized_prediction"
      ],
      "execution_count": 58,
      "outputs": [
        {
          "output_type": "execute_result",
          "data": {
            "text/plain": [
              "array([0])"
            ]
          },
          "metadata": {
            "tags": []
          },
          "execution_count": 58
        }
      ]
    },
    {
      "cell_type": "markdown",
      "metadata": {
        "id": "88ol-gIVWAad"
      },
      "source": [
        "### Comments:\n",
        "It seems like everything that has no relevance tends to be classified as Other.  \n",
        "So yes - there are cases therein which the model can incorrectly classify the Complaint.  \n",
        "However, although our model is not going to be correct 100% of the time, it does do a pretty good job.  \n",
        "It can handle very weird complaints where we throw in a complain that doesn't make a lot of sense.  \n",
        "  \n",
        "### Breaking our Model down:\n",
        "It's great that we know that our model can do classifcation, but HOW does it do it? Let's dissect it and check what key words the model looks out for to classify a complaint."
      ]
    },
    {
      "cell_type": "markdown",
      "metadata": {
        "id": "rVGljhtUWAae"
      },
      "source": [
        "# Section 6: Highest Occuring Words in each column"
      ]
    },
    {
      "cell_type": "code",
      "metadata": {
        "id": "9AbUq0jpWAae",
        "outputId": "a9d9c801-3b04-45a1-93f5-b60a8a253a1c",
        "colab": {
          "base_uri": "https://localhost:8080/"
        }
      },
      "source": [
        "# tfidf2 = unigram and bigram\n",
        "tfidf2 = TfidfVectorizer(sublinear_tf=True, # set to true to scale the term frequency in logarithmic scale.\n",
        "                        min_df=5, \n",
        "                        ngram_range=(1,2), # we consider unigrams and bigrams\n",
        "                        stop_words='english')\n",
        "\n",
        "# We transform each complaint into a vector\n",
        "features = tfidf2.fit_transform(df_cc.CONSUMER_COMPLAINT).toarray()\n",
        "# Labelling our data\n",
        "labels = df_cc.ISSUE_ID\n",
        "\n",
        "print(\"Each of the %d complaints is represented by %d features (TF-IDF score of unigrams and bigrams)\" %(features.shape))"
      ],
      "execution_count": 59,
      "outputs": [
        {
          "output_type": "stream",
          "text": [
            "Each of the 7929 complaints is represented by 23116 features (TF-IDF score of unigrams and bigrams)\n"
          ],
          "name": "stdout"
        }
      ]
    },
    {
      "cell_type": "code",
      "metadata": {
        "id": "N2kjZdPPWAai",
        "outputId": "0561fb26-b1fd-46bb-c8e6-88dec1bd2c7d",
        "colab": {
          "base_uri": "https://localhost:8080/"
        }
      },
      "source": [
        "category_to_id"
      ],
      "execution_count": 60,
      "outputs": [
        {
          "output_type": "execute_result",
          "data": {
            "text/plain": [
              "{'APR or interest rate': 9,\n",
              " 'Advertising and marketing': 3,\n",
              " 'Application processing delay': 19,\n",
              " 'Arbitration': 22,\n",
              " 'Balance transfer': 24,\n",
              " 'Balance transfer fee': 21,\n",
              " 'Bankruptcy': 26,\n",
              " 'Billing disputes': 15,\n",
              " 'Billing statement': 18,\n",
              " 'Cash advance': 27,\n",
              " 'Cash advance fee': 29,\n",
              " 'Closing/Cancelling account': 4,\n",
              " 'Convenience checks': 28,\n",
              " 'Credit card protection / Debt protection': 7,\n",
              " 'Credit determination': 5,\n",
              " 'Credit line increase/decrease': 13,\n",
              " 'Customer service / Customer relations': 6,\n",
              " 'Delinquent account': 16,\n",
              " 'Forbearance / Workout plans': 23,\n",
              " 'Identity theft / Fraud / Embezzlement': 1,\n",
              " 'Late fee': 2,\n",
              " 'Other': 0,\n",
              " 'Other fee': 8,\n",
              " 'Overlimit fee': 25,\n",
              " 'Payoff process': 10,\n",
              " 'Privacy': 12,\n",
              " 'Rewards': 11,\n",
              " 'Sale of account': 20,\n",
              " 'Transaction issue': 14,\n",
              " 'Unsolicited issuance of credit card': 17}"
            ]
          },
          "metadata": {
            "tags": []
          },
          "execution_count": 60
        }
      ]
    },
    {
      "cell_type": "code",
      "metadata": {
        "id": "sqiuDePpWAam",
        "outputId": "38050bea-2baf-4b23-a7ad-071df10be5b3",
        "colab": {
          "base_uri": "https://localhost:8080/"
        }
      },
      "source": [
        "# Finding the three most correlated terms with each of the product categories\n",
        "N = 3\n",
        "for Product, category_id in sorted(category_to_id.items()):\n",
        "    features_chi2 = chi2(features, labels == category_id)\n",
        "    indices = np.argsort(features_chi2[0])\n",
        "    feature_names = np.array(tfidf2.get_feature_names())[indices]\n",
        "    \n",
        "    unigrams = [v for v in feature_names if len(v.split(' ')) == 1]\n",
        "    bigrams = [v for v in feature_names if len(v.split(' ')) == 2]\n",
        "    print(\"\\n==> %s:\" %(Product))\n",
        "    print(\"  * Most Correlated Unigrams are: %s\" %(', '.join(unigrams[-N:])))\n",
        "    print(\"  * Most Correlated Bigrams are: %s\" %(', '.join(bigrams[-N:])))"
      ],
      "execution_count": 63,
      "outputs": [
        {
          "output_type": "stream",
          "text": [
            "\n",
            "==> APR or interest rate:\n",
            "  * Most Correlated Unigrams are: 99, rate, apr\n",
            "  * Most Correlated Bigrams are: 23 99, lower rate, lower apr\n",
            "\n",
            "==> Advertising and marketing:\n",
            "  * Most Correlated Unigrams are: offer, advertising, bonus\n",
            "  * Most Correlated Bigrams are: night free, false advertising, xxxx bonus\n",
            "\n",
            "==> Application processing delay:\n",
            "  * Most Correlated Unigrams are: fabricated, application, withdrew\n",
            "  * Most Correlated Bigrams are: process applying, mart credit, bank tried\n",
            "\n",
            "==> Arbitration:\n",
            "  * Most Correlated Unigrams are: prohibit, contracts, arbitration\n",
            "  * Most Correlated Bigrams are: citibank refused, like cfpb, got paid\n",
            "\n",
            "==> Balance transfer:\n",
            "  * Most Correlated Unigrams are: balance, transfers, transfer\n",
            "  * Most Correlated Bigrams are: transfer balance, balance transfers, balance transfer\n",
            "\n",
            "==> Balance transfer fee:\n",
            "  * Most Correlated Unigrams are: whichever, transfer, aaa\n",
            "  * Most Correlated Bigrams are: balance transfer, transfer check, transfer fees\n",
            "\n",
            "==> Bankruptcy:\n",
            "  * Most Correlated Unigrams are: discharged, chapter, bankruptcy\n",
            "  * Most Correlated Bigrams are: filed chapter, chapter xxxx, xxxx bankruptcy\n",
            "\n",
            "==> Billing disputes:\n",
            "  * Most Correlated Unigrams are: charge, merchant, dispute\n",
            "  * Most Correlated Bigrams are: dispute charge, dispute resolved, disputed charge\n",
            "\n",
            "==> Billing statement:\n",
            "  * Most Correlated Unigrams are: paperless, statement, statements\n",
            "  * Most Correlated Bigrams are: balance shown, receive statement, statement available\n",
            "\n",
            "==> Cash advance:\n",
            "  * Most Correlated Unigrams are: cash, advances, advance\n",
            "  * Most Correlated Bigrams are: advance balance, balance cash, cash advance\n",
            "\n",
            "==> Cash advance fee:\n",
            "  * Most Correlated Unigrams are: ing, cash, advance\n",
            "  * Most Correlated Bigrams are: charged cash, advance fee, cash advance\n",
            "\n",
            "==> Closing/Cancelling account:\n",
            "  * Most Correlated Unigrams are: close, closure, closed\n",
            "  * Most Correlated Bigrams are: close account, closed account, account closed\n",
            "\n",
            "==> Convenience checks:\n",
            "  * Most Correlated Unigrams are: insure, checks, convenience\n",
            "  * Most Correlated Bigrams are: checks credit, convenience checks, convenience check\n",
            "\n",
            "==> Credit card protection / Debt protection:\n",
            "  * Most Correlated Unigrams are: unemployed, insurance, protection\n",
            "  * Most Correlated Bigrams are: credit protection, payment protection, debt protection\n",
            "\n",
            "==> Credit determination:\n",
            "  * Most Correlated Unigrams are: pulled, denial, application\n",
            "  * Most Correlated Bigrams are: denied credit, pulled credit, report permission\n",
            "\n",
            "==> Credit line increase/decrease:\n",
            "  * Most Correlated Unigrams are: increase, lowered, limit\n",
            "  * Most Correlated Bigrams are: limit increase, credit line, credit limit\n",
            "\n",
            "==> Customer service / Customer relations:\n",
            "  * Most Correlated Unigrams are: verifiable, authentic, tryed\n",
            "  * Most Correlated Bigrams are: stop calls, item removed, authentic signature\n",
            "\n",
            "==> Delinquent account:\n",
            "  * Most Correlated Unigrams are: debt, collection, delinquent\n",
            "  * Most Correlated Bigrams are: creditor directly, capital reporting, 30 day\n",
            "\n",
            "==> Forbearance / Workout plans:\n",
            "  * Most Correlated Unigrams are: docket, hardship, winter\n",
            "  * Most Correlated Bigrams are: faxed letter, hardship program, 2015 requesting\n",
            "\n",
            "==> Identity theft / Fraud / Embezzlement:\n",
            "  * Most Correlated Unigrams are: fraudulent, identity, fraud\n",
            "  * Most Correlated Bigrams are: fraudulent account, police report, identity theft\n",
            "\n",
            "==> Late fee:\n",
            "  * Most Correlated Unigrams are: fees, fee, late\n",
            "  * Most Correlated Bigrams are: 00 late, charged late, late fee\n",
            "\n",
            "==> Other:\n",
            "  * Most Correlated Unigrams are: report, reporting, inquiry\n",
            "  * Most Correlated Bigrams are: inquiry credit, unauthorized inquiry, open amex\n",
            "\n",
            "==> Other fee:\n",
            "  * Most Correlated Unigrams are: annual, foreign, fee\n",
            "  * Most Correlated Bigrams are: annual fee, charged foreign, foreign transaction\n",
            "\n",
            "==> Overlimit fee:\n",
            "  * Most Correlated Unigrams are: 73, 39, overlimit\n",
            "  * Most Correlated Bigrams are: charge limit, limit charge, overlimit fee\n",
            "\n",
            "==> Payoff process:\n",
            "  * Most Correlated Unigrams are: highest, payoff, allocation\n",
            "  * Most Correlated Bigrams are: payment highest, highest rate, payment allocation\n",
            "\n",
            "==> Privacy:\n",
            "  * Most Correlated Unigrams are: harms, sharing, privacy\n",
            "  * Most Correlated Bigrams are: acquired xxxx, privacy rights, make inquiry\n",
            "\n",
            "==> Rewards:\n",
            "  * Most Correlated Unigrams are: reward, points, bonus\n",
            "  * Most Correlated Bigrams are: reward points, free night, bonus points\n",
            "\n",
            "==> Sale of account:\n",
            "  * Most Correlated Unigrams are: sold, concert, orchard\n",
            "  * Most Correlated Bigrams are: bought account, credit following, sold debt\n",
            "\n",
            "==> Transaction issue:\n",
            "  * Most Correlated Unigrams are: item, ripped, transaction\n",
            "  * Most Correlated Bigrams are: online business, company named, transaction declined\n",
            "\n",
            "==> Unsolicited issuance of credit card:\n",
            "  * Most Correlated Unigrams are: ebay, pal, paypal\n",
            "  * Most Correlated Bigrams are: pay pal, paypal account, paypal credit\n"
          ],
          "name": "stdout"
        }
      ]
    }
  ]
}